{
 "cells": [
  {
   "cell_type": "code",
   "execution_count": 2,
   "metadata": {},
   "outputs": [],
   "source": [
    "import pandas as pd\n",
    "from sklearn.preprocessing import MinMaxScaler"
   ]
  },
  {
   "cell_type": "code",
   "execution_count": 14,
   "metadata": {},
   "outputs": [],
   "source": [
    "house_data_bristol = pd.read_csv(\"/Users/anukul/Desktop/Anukul/Learning/DataScience/Cleaning/cleaned-data/house_pricing_bristol 22.42.45.csv\")\n",
    "house_data_cornwall = pd.read_csv(\"/Users/anukul/Desktop/Anukul/Learning/DataScience/Cleaning/cleaned-data/house_pricing_cornwall 22.42.45.csv\")\n",
    "broadband_bristol = pd.read_csv(\"/Users/anukul/Desktop/Anukul/Learning/DataScience/Cleaning/cleaned-data/bristol-broadband-cleaned.csv\")\n",
    "broadband_cornwall = pd.read_csv(\"/Users/anukul/Desktop/Anukul/Learning/DataScience/Cleaning/cleaned-data/cornwall-broadband-cleaned.csv\")\n",
    "crime_bristol = pd.read_csv(\"/Users/anukul/Desktop/Anukul/Learning/DataScience/Cleaning/cleaned-data/bristol-crime-cleaned.csv\")\n",
    "crime_cornwall = pd.read_csv(\"/Users/anukul/Desktop/Anukul/Learning/DataScience/Cleaning/cleaned-data/cornwall-crime-cleaned.csv\")\n",
    "schools_bristol = pd.read_csv(\"/Users/anukul/Desktop/Anukul/Learning/DataScience/Cleaning/cleaned-data/bristol_schools_cleaned.csv\")\n",
    "schools_cornwall = pd.read_csv(\"/Users/anukul/Desktop/Anukul/Learning/DataScience/Cleaning/cleaned-data/cornwall_schools_cleaned.csv\")"
   ]
  },
  {
   "cell_type": "code",
   "execution_count": 15,
   "metadata": {},
   "outputs": [],
   "source": [
    "def rename_columns(df, rename_dict):\n",
    "    return df.rename(columns=rename_dict)\n"
   ]
  },
  {
   "cell_type": "code",
   "execution_count": 16,
   "metadata": {},
   "outputs": [],
   "source": [
    "crime_bristol = rename_columns(crime_bristol, {\"postcode\": \"Postcode\", \"city\": \"Town\"})\n",
    "crime_cornwall = rename_columns(crime_cornwall, {\"postcode\": \"Postcode\", \"city\": \"Town\"})\n",
    "house_data_bristol = rename_columns(house_data_bristol, {\"Postcode\": \"Postcode\", \"Town_City\": \"Town\"})\n",
    "house_data_cornwall = rename_columns(house_data_cornwall, {\"Postcode\": \"Postcode\", \"Town_City\": \"Town\"})\n",
    "broadband_bristol = rename_columns(broadband_bristol, {\"postcode_space\": \"Postcode\", \"county\": \"Town\"})\n",
    "broadband_cornwall = rename_columns(broadband_cornwall, {\"postcode_space\": \"Postcode\", \"county\": \"Town\"})\n",
    "schools_bristol = rename_columns(schools_bristol, {\"Postcode\": \"Postcode\", \"Town\": \"Town\"})\n",
    "schools_cornwall = rename_columns(schools_cornwall, {\"Postcode\": \"Postcode\", \"Town\": \"Town\"})"
   ]
  },
  {
   "cell_type": "markdown",
   "metadata": {},
   "source": [
    "Combining dataset for bristol and cornwall"
   ]
  },
  {
   "cell_type": "code",
   "execution_count": 19,
   "metadata": {},
   "outputs": [],
   "source": [
    "def combine_datasets(*dfs):\n",
    "    return pd.concat(dfs, join=\"outer\", keys=[\"Town\", \"Postcode\"])\n"
   ]
  },
  {
   "cell_type": "code",
   "execution_count": 20,
   "metadata": {},
   "outputs": [
    {
     "name": "stderr",
     "output_type": "stream",
     "text": [
      "/var/folders/jx/pym939rn0_zgvv112pfcjs8r0000gn/T/ipykernel_27145/4191896102.py:2: FutureWarning: The behavior of pd.concat with len(keys) != len(objs) is deprecated. In a future version this will raise instead of truncating to the smaller of the two sequences\n",
      "  return pd.concat(dfs, join=\"outer\", keys=[\"Town\", \"Postcode\"])\n",
      "/var/folders/jx/pym939rn0_zgvv112pfcjs8r0000gn/T/ipykernel_27145/4191896102.py:2: FutureWarning: The behavior of pd.concat with len(keys) != len(objs) is deprecated. In a future version this will raise instead of truncating to the smaller of the two sequences\n",
      "  return pd.concat(dfs, join=\"outer\", keys=[\"Town\", \"Postcode\"])\n"
     ]
    }
   ],
   "source": [
    "combined_bristol = combine_datasets(house_data_bristol, broadband_bristol, crime_bristol, schools_bristol)\n",
    "\n",
    "combined_cornwall = combine_datasets(house_data_cornwall, broadband_cornwall, crime_cornwall, schools_cornwall)"
   ]
  },
  {
   "cell_type": "code",
   "execution_count": 22,
   "metadata": {},
   "outputs": [],
   "source": [
    "combined_data = pd.concat([combined_bristol, combined_cornwall], ignore_index=True)"
   ]
  },
  {
   "cell_type": "code",
   "execution_count": 23,
   "metadata": {},
   "outputs": [
    {
     "data": {
      "text/plain": [
       "Index(['ID', 'Housing_Price', 'Year', 'Postcode', 'Type', 'Town', 'District',\n",
       "       'County', 'Short_Postcode', 'postcode', 'postcode area',\n",
       "       'Average_download_speed_Mbit_s', 'Maximum_download_speed_Mbit_s',\n",
       "       'Minimum_download_speed_Mbit_s', 'Average_upload_speed_Mbit_s',\n",
       "       'Maximum_upload_speed_Mbit_s', 'Minimum_upload_speed_Mbit_s',\n",
       "       'Average_data_usage_GB', 'All Premises', 'All Matched Premises',\n",
       "       'lsoa_area'],\n",
       "      dtype='object')"
      ]
     },
     "execution_count": 23,
     "metadata": {},
     "output_type": "execute_result"
    }
   ],
   "source": [
    "combined_data.columns"
   ]
  },
  {
   "cell_type": "markdown",
   "metadata": {},
   "source": [
    "Function to calculate a final score based on crime rate, school quality, and house prices"
   ]
  },
  {
   "cell_type": "code",
   "execution_count": 30,
   "metadata": {},
   "outputs": [
    {
     "data": {
      "text/plain": [
       "Index(['Crime_ID', 'Year', 'LSOA_code', 'LSOA_name', 'Crime_type', 'Postcode',\n",
       "       'Town'],\n",
       "      dtype='object')"
      ]
     },
     "execution_count": 30,
     "metadata": {},
     "output_type": "execute_result"
    }
   ],
   "source": [
    "crime_cornwall.columns"
   ]
  },
  {
   "cell_type": "code",
   "execution_count": 28,
   "metadata": {},
   "outputs": [],
   "source": [
    "def calculate_final_score(df):\n",
    "    scaler = MinMaxScaler(feature_range=(0, 1))\n",
    "    \n",
    "    df['Housing_Price'] = df['Housing_Price'].fillna(df['Housing_Price'].median())\n",
    "    df['crime_rate'] = df['Crime_ID'].notna().astype(int)\n",
    "    df['school_quality'] = df['OFSTEDRATING'].fillna(0).astype(float)\n",
    "    \n",
    "    df['crime_rate_score'] = 10 * (1 - scaler.fit_transform(df[['crime_rate']]))\n",
    "    df['school_quality_score'] = 10 * scaler.fit_transform(df[['school_quality']])\n",
    "    df['house_price_score'] = 10 * (1 - scaler.fit_transform(df[['Housing_Price']]))\n",
    "    \n",
    "    df['final_score'] = (\n",
    "        0.4 * df['crime_rate_score'] + \n",
    "        0.3 * df['school_quality_score'] + \n",
    "        0.3 * df['house_price_score']\n",
    "    )\n",
    "    \n",
    "    return df"
   ]
  }
 ],
 "metadata": {
  "kernelspec": {
   "display_name": "Python 3",
   "language": "python",
   "name": "python3"
  },
  "language_info": {
   "codemirror_mode": {
    "name": "ipython",
    "version": 3
   },
   "file_extension": ".py",
   "mimetype": "text/x-python",
   "name": "python",
   "nbconvert_exporter": "python",
   "pygments_lexer": "ipython3",
   "version": "3.12.3"
  }
 },
 "nbformat": 4,
 "nbformat_minor": 2
}
