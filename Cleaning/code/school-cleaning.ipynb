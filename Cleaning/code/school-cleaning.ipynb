{
 "cells": [
  {
   "cell_type": "code",
   "execution_count": 1,
   "metadata": {},
   "outputs": [],
   "source": [
    "import pandas as pd \n",
    "import numpy as np   \n",
    "from scipy.stats import mode  "
   ]
  },
  {
   "cell_type": "markdown",
   "metadata": {},
   "source": [
    "Load the KS4 final data for Bristol from CSV  (bristol 21-22)"
   ]
  },
  {
   "cell_type": "code",
   "execution_count": 14,
   "metadata": {},
   "outputs": [],
   "source": [
    "bristolKs4_21_22 = pd.read_csv(\"/Users/anukul/Desktop/Anukul/Learning/DataScience/Obtaining/bristol_school_2021-2022/801_ks4final.csv\")"
   ]
  },
  {
   "cell_type": "markdown",
   "metadata": {},
   "source": [
    "Add the year column with value 2022, select relevant columns, and clean the data"
   ]
  },
  {
   "cell_type": "code",
   "execution_count": 15,
   "metadata": {},
   "outputs": [],
   "source": [
    "bristolKs4_21_22 = (bristolKs4_21_22\n",
    "    .assign(Year=\"2022\")\n",
    "    .loc[:, ['PCODE', 'Year', 'SCHNAME', 'ATT8SCR']]\n",
    "    .dropna(subset=['SCHNAME', 'ATT8SCR'])\n",
    "    .rename(columns={'PCODE': 'Postcode', 'SCHNAME': 'SchName'}))"
   ]
  },
  {
   "cell_type": "markdown",
   "metadata": {},
   "source": [
    "Load the school information data for Bristol from CSV"
   ]
  },
  {
   "cell_type": "code",
   "execution_count": 16,
   "metadata": {},
   "outputs": [],
   "source": [
    "bristolSchoolInfo_21_22 = pd.read_csv(\"/Users/anukul/Desktop/Anukul/Learning/DataScience/Obtaining/bristol_school_2021-2022/801_school_information.csv\")"
   ]
  },
  {
   "cell_type": "markdown",
   "metadata": {},
   "source": [
    "Consolidate school level columns into one and select relevant columns"
   ]
  },
  {
   "cell_type": "code",
   "execution_count": 17,
   "metadata": {},
   "outputs": [],
   "source": [
    "bristolSchoolInfo_21_22 = (bristolSchoolInfo_21_22\n",
    "    .assign(SchLevel=lambda df: pd.Series([\n",
    "        'Primary' if row['ISPRIMARY'] == 1 else 'Secondary' if row['ISSECONDARY'] == 1 else 'Post-16'\n",
    "        for _, row in df.iterrows()]))\n",
    "    .loc[:, ['URN', 'SCHNAME', 'POSTCODE', 'TOWN', 'SCHOOLTYPE', 'SchLevel', 'OFSTEDRATING']]\n",
    "    .rename(columns={'POSTCODE': 'Postcode', 'SCHNAME': 'SchName', 'TOWN': 'Town', 'SCHOOLTYPE': 'SchoolType'}))"
   ]
  },
  {
   "cell_type": "markdown",
   "metadata": {},
   "source": [
    "Combine KS4 final data with school information data using inner join"
   ]
  },
  {
   "cell_type": "code",
   "execution_count": 18,
   "metadata": {},
   "outputs": [],
   "source": [
    "bristolSchools_21_22 = (bristolKs4_21_22\n",
    "    .merge(bristolSchoolInfo_21_22, on=['Postcode', 'SchName'], how='inner')\n",
    "    .assign(Town=lambda df: df['Town'].fillna(\"Bristol\"),\n",
    "            County=\"City of Bristol\")\n",
    "    .query('Town == \"Bristol\"'))"
   ]
  },
  {
   "cell_type": "markdown",
   "metadata": {},
   "source": [
    "BRISTOL SCHOOLS 2022-2023\n",
    "Load the KS4 final data for Bristol from CSV"
   ]
  },
  {
   "cell_type": "code",
   "execution_count": 19,
   "metadata": {},
   "outputs": [],
   "source": [
    "bristolKs4_22_23 = pd.read_csv(\"/Users/anukul/Desktop/Anukul/Learning/DataScience/Obtaining/bristol_school_2022-2023/801_ks4final.csv\")"
   ]
  },
  {
   "cell_type": "markdown",
   "metadata": {},
   "source": [
    "Add the year column with value 2023, select relevant columns, and clean the data"
   ]
  },
  {
   "cell_type": "code",
   "execution_count": 20,
   "metadata": {},
   "outputs": [],
   "source": [
    "bristolKs4_22_23 = (bristolKs4_22_23\n",
    "    .assign(Year=\"2023\")\n",
    "    .loc[:, ['PCODE', 'Year', 'SCHNAME', 'ATT8SCR']]\n",
    "    .dropna(subset=['SCHNAME', 'ATT8SCR'])\n",
    "    .rename(columns={'PCODE': 'Postcode', 'SCHNAME': 'SchName'}))"
   ]
  },
  {
   "cell_type": "markdown",
   "metadata": {},
   "source": [
    "Load the school information data for Bristol from CSV"
   ]
  },
  {
   "cell_type": "code",
   "execution_count": 22,
   "metadata": {},
   "outputs": [],
   "source": [
    "bristolSchoolInfo_22_23 = pd.read_csv(\"/Users/anukul/Desktop/Anukul/Learning/DataScience/Obtaining/bristol_school_2022-2023/801_school_information.csv\")"
   ]
  },
  {
   "cell_type": "markdown",
   "metadata": {},
   "source": [
    "Consolidate school level columns into one and select relevant columns"
   ]
  },
  {
   "cell_type": "code",
   "execution_count": 23,
   "metadata": {},
   "outputs": [],
   "source": [
    "bristolSchoolInfo_22_23 = (bristolSchoolInfo_22_23\n",
    "    .assign(SchLevel=lambda df: pd.Series([\n",
    "        'Primary' if row['ISPRIMARY'] == 1 else 'Secondary' if row['ISSECONDARY'] == 1 else 'Post-16'\n",
    "        for _, row in df.iterrows()]))\n",
    "    .loc[:, ['URN', 'SCHNAME', 'POSTCODE', 'TOWN', 'SCHOOLTYPE', 'SchLevel', 'OFSTEDRATING']]\n",
    "    .rename(columns={'POSTCODE': 'Postcode', 'SCHNAME': 'SchName', 'TOWN': 'Town', 'SCHOOLTYPE': 'SchoolType'}))"
   ]
  },
  {
   "cell_type": "markdown",
   "metadata": {},
   "source": [
    "Combine KS4 final data with school information data using inner join"
   ]
  },
  {
   "cell_type": "code",
   "execution_count": 24,
   "metadata": {},
   "outputs": [],
   "source": [
    "bristolSchools_22_23 = (bristolKs4_22_23\n",
    "    .merge(bristolSchoolInfo_22_23, on=['Postcode', 'SchName'], how='inner')\n",
    "    .assign(Town=lambda df: df['Town'].fillna(\"Bristol\"),\n",
    "            County=\"City of Bristol\")\n",
    "    .query('Town == \"Bristol\"'))"
   ]
  },
  {
   "cell_type": "markdown",
   "metadata": {},
   "source": [
    "CORNWALL SCHOOLS 2021-2022\n",
    "Load the KS4 final data for Cornwall from CSV"
   ]
  },
  {
   "cell_type": "code",
   "execution_count": 38,
   "metadata": {},
   "outputs": [],
   "source": [
    "cornwallKs4_21_22 = pd.read_csv(\"/Users/anukul/Desktop/Anukul/Learning/DataScience/Obtaining/cornwall_school_2021-2022/908_ks4final.csv\")"
   ]
  },
  {
   "cell_type": "markdown",
   "metadata": {},
   "source": [
    "Add the year column with value 2022, select relevant columns, and clean the data"
   ]
  },
  {
   "cell_type": "code",
   "execution_count": 39,
   "metadata": {},
   "outputs": [],
   "source": [
    "cornwallKs4_21_22 = (cornwallKs4_21_22\n",
    "    .assign(Year=\"2022\")\n",
    "    .loc[:, ['PCODE', 'Year', 'SCHNAME', 'ATT8SCR']]\n",
    "    .dropna(subset=['SCHNAME', 'ATT8SCR'])\n",
    "    .rename(columns={'PCODE': 'Postcode', 'SCHNAME': 'SchName'}))"
   ]
  },
  {
   "cell_type": "markdown",
   "metadata": {},
   "source": [
    "Load the school information data for Cornwall from CSV"
   ]
  },
  {
   "cell_type": "code",
   "execution_count": 41,
   "metadata": {},
   "outputs": [],
   "source": [
    "cornwallSchoolInfo_21_22 = pd.read_csv(\"/Users/anukul/Desktop/Anukul/Learning/DataScience/Obtaining/cornwall_school_2021-2022/908_school_information.csv\")"
   ]
  },
  {
   "cell_type": "markdown",
   "metadata": {},
   "source": [
    "Consolidate school level columns into one and select relevant columns"
   ]
  },
  {
   "cell_type": "code",
   "execution_count": 42,
   "metadata": {},
   "outputs": [],
   "source": [
    "cornwallSchoolInfo_21_22 = (cornwallSchoolInfo_21_22\n",
    "    .assign(SchLevel=lambda df: pd.Series([\n",
    "        'Primary' if row['ISPRIMARY'] == 1 else 'Secondary' if row['ISSECONDARY'] == 1 else 'Post-16'\n",
    "        for _, row in df.iterrows()]))\n",
    "    .loc[:, ['URN', 'SCHNAME', 'POSTCODE', 'TOWN', 'SCHOOLTYPE', 'SchLevel', 'OFSTEDRATING']]\n",
    "    .rename(columns={'POSTCODE': 'Postcode', 'SCHNAME': 'SchName', 'TOWN': 'Town', 'SCHOOLTYPE': 'SchoolType'}))"
   ]
  },
  {
   "cell_type": "markdown",
   "metadata": {},
   "source": [
    "Combine KS4 final data with school information data using inner join"
   ]
  },
  {
   "cell_type": "code",
   "execution_count": 43,
   "metadata": {},
   "outputs": [],
   "source": [
    "cornwallSchools_21_22 = (cornwallKs4_21_22\n",
    "    .merge(cornwallSchoolInfo_21_22, on=['Postcode', 'SchName'], how='inner')\n",
    "    .assign(Town=lambda df: df['Town'].fillna(\"Cornwall\"),\n",
    "            County=\"Cornwall\")\n",
    "    .assign(Town=lambda df: df['Town'].replace({\n",
    "        None: lambda x: 'Gunnislake' if x['SchName'] == 'The Lowen School' else 'Lanlivery' if x['SchName'] == 'Red Moor School' else x['Town']})))"
   ]
  },
  {
   "cell_type": "markdown",
   "metadata": {},
   "source": [
    "CORNWALL SCHOOLS 2022-2023\n",
    "Load the KS4 final data for Cornwall from CSV"
   ]
  },
  {
   "cell_type": "code",
   "execution_count": 44,
   "metadata": {},
   "outputs": [],
   "source": [
    "cornwallKs4_22_23 = pd.read_csv(\"/Users/anukul/Desktop/Anukul/Learning/DataScience/Obtaining/cornwall_school_2022-2023/908_ks4final.csv\")"
   ]
  },
  {
   "cell_type": "markdown",
   "metadata": {},
   "source": [
    "Add the year column with value 2023, select relevant columns, and clean the data"
   ]
  },
  {
   "cell_type": "code",
   "execution_count": 45,
   "metadata": {},
   "outputs": [],
   "source": [
    "cornwallKs4_22_23 = (cornwallKs4_22_23\n",
    "    .assign(Year=\"2023\")\n",
    "    .loc[:, ['PCODE', 'Year', 'SCHNAME', 'ATT8SCR']]\n",
    "    .dropna(subset=['SCHNAME', 'ATT8SCR'])\n",
    "    .rename(columns={'PCODE': 'Postcode', 'SCHNAME': 'SchName'}))"
   ]
  },
  {
   "cell_type": "markdown",
   "metadata": {},
   "source": [
    "Load the school information data for Cornwall from CSV"
   ]
  },
  {
   "cell_type": "code",
   "execution_count": 46,
   "metadata": {},
   "outputs": [],
   "source": [
    "cornwallSchoolInfo_22_23 = pd.read_csv(\"/Users/anukul/Desktop/Anukul/Learning/DataScience/Obtaining/cornwall_school_2022-2023/908_school_information.csv\")"
   ]
  },
  {
   "cell_type": "markdown",
   "metadata": {},
   "source": [
    "Consolidate school level columns into one and select relevant columns"
   ]
  },
  {
   "cell_type": "code",
   "execution_count": 47,
   "metadata": {},
   "outputs": [],
   "source": [
    "cornwallSchoolInfo_22_23 = (cornwallSchoolInfo_22_23\n",
    "    .assign(SchLevel=lambda df: pd.Series([\n",
    "        'Primary' if row['ISPRIMARY'] == 1 else 'Secondary' if row['ISSECONDARY'] == 1 else 'Post-16'\n",
    "        for _, row in df.iterrows()]))\n",
    "    .loc[:, ['URN', 'SCHNAME', 'POSTCODE', 'TOWN', 'SCHOOLTYPE', 'SchLevel', 'OFSTEDRATING']]\n",
    "    .rename(columns={'POSTCODE': 'Postcode', 'SCHNAME': 'SchName', 'TOWN': 'Town', 'SCHOOLTYPE': 'SchoolType'}))"
   ]
  },
  {
   "cell_type": "markdown",
   "metadata": {},
   "source": [
    "Combine KS4 final data with school information data using inner join"
   ]
  },
  {
   "cell_type": "code",
   "execution_count": 48,
   "metadata": {},
   "outputs": [],
   "source": [
    "cornwallSchools_22_23 = (cornwallKs4_22_23\n",
    "    .merge(cornwallSchoolInfo_22_23, on=['Postcode', 'SchName'], how='inner')\n",
    "    .assign(Town=lambda df: df['Town'].fillna(\"Cornwall\"),\n",
    "            County=\"Cornwall\")\n",
    "    .assign(Town=lambda df: df['Town'].replace({\n",
    "        None: lambda x: 'Gunnislake' if x['SchName'] == 'The Lowen School' else 'Lanlivery' if x['SchName'] == 'Red Moor School' else x['Town']})))"
   ]
  },
  {
   "cell_type": "code",
   "execution_count": 50,
   "metadata": {},
   "outputs": [],
   "source": [
    "combinedBristol = pd.concat([bristolSchools_21_22, bristolSchools_22_23], ignore_index=True)\n",
    "mode_ofstedrating = combinedBristol['OFSTEDRATING'].mode().iloc[0]\n",
    "BristolSchoolsData = (combinedBristol\n",
    "    .assign(County=\"City of Bristol\")\n",
    "    .assign(OFSTEDRATING=lambda df: df['OFSTEDRATING'].fillna(mode_ofstedrating))\n",
    ")\n",
    "combinedCornwall = pd.concat([cornwallSchools_21_22, cornwallSchools_22_23], ignore_index=True)\n",
    "mode_ofstedrating_cornwall = combinedCornwall['OFSTEDRATING'].mode().iloc[0]\n",
    "CornwallSchoolsData = (combinedCornwall\n",
    "    .assign(County=\"Cornwall\")\n",
    "    .assign(OFSTEDRATING=lambda df: df['OFSTEDRATING'].fillna(mode_ofstedrating_cornwall))\n",
    ")\n",
    "BristolSchoolsData.to_csv(\"/Users/anukul/Desktop/Anukul/Learning/DataScience/Cleaning/cleaned-data/bristol_schools_cleaned.csv\", index=False)\n",
    "CornwallSchoolsData.to_csv(\"/Users/anukul/Desktop/Anukul/Learning/DataScience/Cleaning/cleaned-data/cornwall_schools_cleaned.csv\", index=False)"
   ]
  }
 ],
 "metadata": {
  "kernelspec": {
   "display_name": "Python 3",
   "language": "python",
   "name": "python3"
  },
  "language_info": {
   "codemirror_mode": {
    "name": "ipython",
    "version": 3
   },
   "file_extension": ".py",
   "mimetype": "text/x-python",
   "name": "python",
   "nbconvert_exporter": "python",
   "pygments_lexer": "ipython3",
   "version": "3.12.3"
  }
 },
 "nbformat": 4,
 "nbformat_minor": 2
}
