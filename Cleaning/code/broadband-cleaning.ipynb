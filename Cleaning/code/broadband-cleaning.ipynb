{
 "cells": [
  {
   "cell_type": "code",
   "execution_count": 12,
   "metadata": {},
   "outputs": [],
   "source": [
    "import pandas as pd\n",
    "import numpy as np\n",
    "from sklearn.preprocessing import StandardScaler"
   ]
  },
  {
   "cell_type": "code",
   "execution_count": 52,
   "metadata": {},
   "outputs": [
    {
     "name": "stderr",
     "output_type": "stream",
     "text": [
      "/var/folders/jx/pym939rn0_zgvv112pfcjs8r0000gn/T/ipykernel_9036/161294174.py:3: DtypeWarning: Columns (13) have mixed types. Specify dtype option on import or set low_memory=False.\n",
      "  lsoa_df = pd.read_csv(\"/Users/anukul/Desktop/Anukul/Learning/DataScience/Obtaining/Postcode_to_LSOA.csv\",encoding='ISO-8859-1')\n"
     ]
    }
   ],
   "source": [
    "broadband_df = pd.read_csv(\"/Users/anukul/Desktop/Anukul/Learning/DataScience/Obtaining/broadband_data.csv\")\n",
    "coverage_df = pd.read_csv(\"/Users/anukul/Desktop/Anukul/Learning/DataScience/Obtaining/coverage_data.csv\")\n",
    "lsoa_df = pd.read_csv(\"/Users/anukul/Desktop/Anukul/Learning/DataScience/Obtaining/Postcode_to_LSOA.csv\",encoding='ISO-8859-1')"
   ]
  },
  {
   "cell_type": "markdown",
   "metadata": {},
   "source": [
    "In this cell, we define a function process_data that Handles missing values by filling with 0 if more than 90% of values are missing, otherwise filling with the median value, applies standardization (Z-score normalization) to numeric columns to have a mean of 0 and a standard deviation of 1."
   ]
  },
  {
   "cell_type": "code",
   "execution_count": 53,
   "metadata": {},
   "outputs": [],
   "source": [
    "def process_data(df):\n",
    "    for column in df.select_dtypes(include=[np.number]).columns:\n",
    "        if df[column].isna().sum() > 0.9 * len(df):\n",
    "            df[column] = df[column].fillna(0)\n",
    "        else:\n",
    "            median_value = df[column].median()\n",
    "            df[column] = df[column].fillna(median_value)\n",
    "    \n",
    "    # Apply log transformation\n",
    "    for column in df.select_dtypes(include=[np.number]).columns:\n",
    "        df[column] = np.log(df[column] + 1)\n",
    "    \n",
    "    return df"
   ]
  },
  {
   "cell_type": "code",
   "execution_count": 54,
   "metadata": {},
   "outputs": [],
   "source": [
    "broadband_df_processed = process_data(broadband_df)\n",
    "coverage_df_processed = process_data(coverage_df)"
   ]
  },
  {
   "cell_type": "markdown",
   "metadata": {},
   "source": [
    "Below we have filter the broadband and coverage datasets to include only the Cornwall postcode areas ('TR' and 'PL').We merge the filtered broadband and coverage data on the postcode. We further merge with the LSOA data and filter to keep only the rows where the county is 'Cornwall'."
   ]
  },
  {
   "cell_type": "code",
   "execution_count": 21,
   "metadata": {},
   "outputs": [
    {
     "data": {
      "text/plain": [
       "Index(['postcode', 'postcode_space', 'postcode area',\n",
       "       'Median download speed (Mbit/s)', 'Average download speed (Mbit/s)',\n",
       "       'Minimum download speed (Mbit/s)', 'Maximum download speed (Mbit/s)',\n",
       "       'Average download speed (Mbit/s) for lines < 10Mbit/s',\n",
       "       'Average download speed (Mbit/s) for lines 10<30Mbit/s',\n",
       "       'Average download speed (Mbit/s) for SFBB lines',\n",
       "       'Average download speed (Mbit/s) for UFBB lines',\n",
       "       'Median upload speed (Mbit/s)', 'Average upload speed (Mbit/s)',\n",
       "       'Minimum upload speed (Mbit/s)', 'Maximum upload speed (Mbit/s)',\n",
       "       'Average upload speed (Mbit/s) for lines < 10Mbit/s',\n",
       "       'Average upload speed (Mbit/s) for lines 10<30Mbit/s',\n",
       "       'Average upload speed (Mbit/s) for SFBB lines',\n",
       "       'Average upload speed (Mbit/s) for UFBB lines',\n",
       "       'Number of connections < 2 Mbit/s (number of lines)',\n",
       "       'Number of connections 2<5 Mbit/s (number of lines)',\n",
       "       'Number of connections 5<10 Mbit/s (number of lines)',\n",
       "       'Number of connections 10<30 Mbit/s (number of lines) ',\n",
       "       'Number of connections 30<300 Mbit/s (number of lines)',\n",
       "       'Number of connections >= 300 Mbit/s (number of lines)',\n",
       "       'Number of connections >= 30 Mbit/s (number of lines)',\n",
       "       'Average data usage (GB) for lines < 10Mbit/s',\n",
       "       'Average data usage (GB) for Basic BB lines',\n",
       "       'Average data usage (GB) for SFBB lines',\n",
       "       'Average data usage (GB) for UFBB lines', 'Average data usage (GB)'],\n",
       "      dtype='object')"
      ]
     },
     "execution_count": 21,
     "metadata": {},
     "output_type": "execute_result"
    }
   ],
   "source": [
    "broadband_df_processed.columns"
   ]
  },
  {
   "cell_type": "code",
   "execution_count": 23,
   "metadata": {},
   "outputs": [
    {
     "data": {
      "text/plain": [
       "Index(['postcode', 'All Premises', 'All Matched Premises',\n",
       "       'SFBB availability (% premises)', 'UFBB availability (% premises)',\n",
       "       'FTTP availability (% premises)',\n",
       "       '% of premises unable to receive 2Mbit/s',\n",
       "       '% of premises unable to receive 5Mbit/s',\n",
       "       '% of premises unable to receive 10Mbit/s',\n",
       "       '% of premises unable to receive 30Mbit/s',\n",
       "       '% of premises unable meet USO',\n",
       "       '% of premises able to receive decent broadband from FWA',\n",
       "       '% of premises able to receive SFBB from FWA',\n",
       "       '% of premises able to receive NGA', 'pcds', 'pca'],\n",
       "      dtype='object')"
      ]
     },
     "execution_count": 23,
     "metadata": {},
     "output_type": "execute_result"
    }
   ],
   "source": [
    "coverage_df_processed.columns"
   ]
  },
  {
   "cell_type": "markdown",
   "metadata": {},
   "source": [
    "We filter the broadband and coverage datasets to include only the Cornwall postcode areas ('TR' and 'PL')and then we  merge the filtered broadband and coverage data on the postcode. We finally merge with the LSOA data and filter to keep only the rows where the county is 'Cornwall'."
   ]
  },
  {
   "cell_type": "code",
   "execution_count": 55,
   "metadata": {},
   "outputs": [],
   "source": [
    "cornwall_broadband_data = (\n",
    "    broadband_df_processed[\n",
    "        broadband_df_processed['postcode area'].isin(['TR', 'PL'])\n",
    "    ]\n",
    "    .merge(\n",
    "        coverage_df_processed[\n",
    "            coverage_df_processed['pca'].isin(['TR', 'PL'])\n",
    "        ],\n",
    "        left_on='postcode',  \n",
    "        right_on='postcode',  \n",
    "        how='inner'\n",
    "    )\n",
    "    .rename(columns={\n",
    "        'Average download speed (Mbit/s)': 'Average_download_speed_Mbit_s',\n",
    "        'Maximum download speed (Mbit/s)': 'Maximum_download_speed_Mbit_s',\n",
    "        'Minimum download speed (Mbit/s)': 'Minimum_download_speed_Mbit_s',\n",
    "        'Average upload speed (Mbit/s)': 'Average_upload_speed_Mbit_s',\n",
    "        'Maximum upload speed (Mbit/s)': 'Maximum_upload_speed_Mbit_s',\n",
    "        'Minimum upload speed (Mbit/s)': 'Minimum_upload_speed_Mbit_s',\n",
    "        'Average data usage (GB)': 'Average_data_usage_GB'\n",
    "    })\n",
    "    .merge(\n",
    "        lsoa_df[['pcds', 'lsoa11nm', 'ladnm']].rename(columns={\n",
    "            'pcds': 'postcode_space',\n",
    "            'lsoa11nm': 'lsoa_area',\n",
    "            'ladnm': 'county'\n",
    "        }),\n",
    "        on='postcode_space',\n",
    "        how='left'\n",
    "    )\n",
    "    .query(\"county == 'Cornwall'\")\n",
    "    .loc[:, [\n",
    "        'postcode', 'postcode_space', 'postcode area',\n",
    "        'Average_download_speed_Mbit_s', 'Maximum_download_speed_Mbit_s', 'Minimum_download_speed_Mbit_s',\n",
    "        'Average_upload_speed_Mbit_s', 'Maximum_upload_speed_Mbit_s', 'Minimum_upload_speed_Mbit_s',\n",
    "        'Average_data_usage_GB', 'All Premises', 'All Matched Premises', 'lsoa_area', 'county'\n",
    "    ]]\n",
    ")\n"
   ]
  },
  {
   "cell_type": "code",
   "execution_count": 56,
   "metadata": {},
   "outputs": [],
   "source": [
    "cornwall_broadband_data.to_csv(\"/Users/anukul/Desktop/Anukul/Learning/DataScience/Cleaning/cleaned-data/cornwall-broadband-cleaned.csv\", index=False)"
   ]
  },
  {
   "cell_type": "code",
   "execution_count": 58,
   "metadata": {},
   "outputs": [
    {
     "data": {
      "text/plain": [
       "Index(['postcode', 'postcode_space', 'postcode area',\n",
       "       'Average_download_speed_Mbit_s', 'Maximum_download_speed_Mbit_s',\n",
       "       'Minimum_download_speed_Mbit_s', 'Average_upload_speed_Mbit_s',\n",
       "       'Maximum_upload_speed_Mbit_s', 'Minimum_upload_speed_Mbit_s',\n",
       "       'Average_data_usage_GB', 'All Premises', 'All Matched Premises',\n",
       "       'lsoa_area', 'county'],\n",
       "      dtype='object')"
      ]
     },
     "execution_count": 58,
     "metadata": {},
     "output_type": "execute_result"
    }
   ],
   "source": [
    "cornwall_broadband_data.columns"
   ]
  },
  {
   "cell_type": "markdown",
   "metadata": {},
   "source": [
    "Similarly, We filter the broadband and coverage datasets to include only the Bristol postcode area ('BS'), merge the filtered broadband and coverage data on the postcode.We further merge with the LSOA data and filter to keep only the rows where the county is 'Bristol, City of'."
   ]
  },
  {
   "cell_type": "code",
   "execution_count": 59,
   "metadata": {},
   "outputs": [],
   "source": [
    "bristol_broadband_data = (\n",
    "    broadband_df_processed[\n",
    "        broadband_df_processed['postcode area'] == 'BS'\n",
    "    ]\n",
    "    .merge(\n",
    "        coverage_df_processed[\n",
    "            coverage_df_processed['pca'] == 'BS'\n",
    "        ],\n",
    "        left_on='postcode',  \n",
    "        right_on='postcode',  \n",
    "        how='inner'\n",
    "    )\n",
    "    .rename(columns={\n",
    "        'Average download speed (Mbit/s)': 'Average_download_speed_Mbit_s',\n",
    "        'Maximum download speed (Mbit/s)': 'Maximum_download_speed_Mbit_s',\n",
    "        'Minimum download speed (Mbit/s)': 'Minimum_download_speed_Mbit_s',\n",
    "        'Average upload speed (Mbit/s)': 'Average_upload_speed_Mbit_s',\n",
    "        'Maximum upload speed (Mbit/s)': 'Maximum_upload_speed_Mbit_s',\n",
    "        'Minimum upload speed (Mbit/s)': 'Minimum_upload_speed_Mbit_s',\n",
    "        'Average data usage (GB)': 'Average_data_usage_GB'\n",
    "    })\n",
    "    .merge(\n",
    "        lsoa_df[['pcds', 'lsoa11nm', 'ladnm']].rename(columns={\n",
    "            'pcds': 'postcode_space',\n",
    "            'lsoa11nm': 'lsoa_area',\n",
    "            'ladnm': 'county'\n",
    "        }),\n",
    "        on='postcode_space',\n",
    "        how='left'\n",
    "    )\n",
    "    .query(\"county == 'Bristol, City of'\")\n",
    "    .loc[:, [\n",
    "        'postcode', 'postcode_space', 'postcode area',\n",
    "        'Average_download_speed_Mbit_s', 'Maximum_download_speed_Mbit_s', 'Minimum_download_speed_Mbit_s',\n",
    "        'Average_upload_speed_Mbit_s', 'Maximum_upload_speed_Mbit_s', 'Minimum_upload_speed_Mbit_s',\n",
    "        'Average_data_usage_GB', 'All Premises', 'All Matched Premises', 'lsoa_area', 'county'\n",
    "    ]]\n",
    ")"
   ]
  },
  {
   "cell_type": "code",
   "execution_count": 60,
   "metadata": {},
   "outputs": [],
   "source": [
    "bristol_broadband_data.to_csv(\"/Users/anukul/Desktop/Anukul/Learning/DataScience/Cleaning/cleaned-data/bristol-broadband-cleaned.csv\", index=False)"
   ]
  },
  {
   "cell_type": "markdown",
   "metadata": {},
   "source": [
    "Finally, cleaned broadband data including coverage of both region Bristol and Cornwall"
   ]
  },
  {
   "cell_type": "code",
   "execution_count": 61,
   "metadata": {},
   "outputs": [],
   "source": [
    "broadband_cleaned = pd.concat([cornwall_broadband_data, bristol_broadband_data])\n",
    "broadband_cleaned.to_csv(\"/Users/anukul/Desktop/Anukul/Learning/DataScience/Cleaning/cleaned-data/combined-broadband-cleaned.csv\", index=False)"
   ]
  },
  {
   "cell_type": "code",
   "execution_count": null,
   "metadata": {},
   "outputs": [],
   "source": []
  }
 ],
 "metadata": {
  "kernelspec": {
   "display_name": "Python 3",
   "language": "python",
   "name": "python3"
  },
  "language_info": {
   "codemirror_mode": {
    "name": "ipython",
    "version": 3
   },
   "file_extension": ".py",
   "mimetype": "text/x-python",
   "name": "python",
   "nbconvert_exporter": "python",
   "pygments_lexer": "ipython3",
   "version": "3.12.3"
  }
 },
 "nbformat": 4,
 "nbformat_minor": 2
}
