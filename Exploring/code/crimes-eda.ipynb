{
 "cells": [
  {
   "cell_type": "code",
   "execution_count": 1,
   "metadata": {},
   "outputs": [],
   "source": [
    "import pandas as pd\n",
    "import numpy as np\n",
    "import matplotlib.pyplot as plt\n",
    "import seaborn as sns\n",
    "import plotly.express as px\n",
    "from sklearn.preprocessing import LabelEncoder\n",
    "from sklearn.linear_model import LinearRegression"
   ]
  },
  {
   "cell_type": "code",
   "execution_count": 21,
   "metadata": {},
   "outputs": [],
   "source": [
    "bristol_crime = pd.read_csv(\"/Users/anukul/Desktop/Anukul/Learning/DataScience/Cleaning/cleaned-data/bristol-crime-cleaned.csv\")\n",
    "cornwall_crime = pd.read_csv(\"/Users/anukul/Desktop/Anukul/Learning/DataScience/Cleaning/cleaned-data/cornwall-crime-cleaned.csv\")\n",
    "popn_2011 = pd.read_csv(\"/Users/anukul/Desktop/Anukul/Learning/DataScience/Obtaining/population-2011.csv\")"
   ]
  },
  {
   "cell_type": "code",
   "execution_count": 22,
   "metadata": {},
   "outputs": [],
   "source": [
    "popn_2011['Population'] = popn_2011['Population'].str.replace(',', '').astype(float)"
   ]
  },
  {
   "cell_type": "code",
   "execution_count": 23,
   "metadata": {},
   "outputs": [],
   "source": [
    "popn_2023 = popn_2011.copy()\n",
    "popn_2023['Population'] = popn_2011['Population'] * 1.00561255390388033"
   ]
  },
  {
   "cell_type": "code",
   "execution_count": 24,
   "metadata": {},
   "outputs": [
    {
     "data": {
      "text/html": [
       "<div>\n",
       "<style scoped>\n",
       "    .dataframe tbody tr th:only-of-type {\n",
       "        vertical-align: middle;\n",
       "    }\n",
       "\n",
       "    .dataframe tbody tr th {\n",
       "        vertical-align: top;\n",
       "    }\n",
       "\n",
       "    .dataframe thead th {\n",
       "        text-align: right;\n",
       "    }\n",
       "</style>\n",
       "<table border=\"1\" class=\"dataframe\">\n",
       "  <thead>\n",
       "    <tr style=\"text-align: right;\">\n",
       "      <th></th>\n",
       "      <th>Postcode</th>\n",
       "      <th>Population</th>\n",
       "    </tr>\n",
       "  </thead>\n",
       "  <tbody>\n",
       "    <tr>\n",
       "      <th>0</th>\n",
       "      <td>AL1  1</td>\n",
       "      <td>5483.605256</td>\n",
       "    </tr>\n",
       "    <tr>\n",
       "      <th>1</th>\n",
       "      <td>AL1  2</td>\n",
       "      <td>6559.610689</td>\n",
       "    </tr>\n",
       "    <tr>\n",
       "      <th>2</th>\n",
       "      <td>AL1  3</td>\n",
       "      <td>4202.454863</td>\n",
       "    </tr>\n",
       "    <tr>\n",
       "      <th>3</th>\n",
       "      <td>AL1  4</td>\n",
       "      <td>9853.997416</td>\n",
       "    </tr>\n",
       "    <tr>\n",
       "      <th>4</th>\n",
       "      <td>AL1  5</td>\n",
       "      <td>10283.393976</td>\n",
       "    </tr>\n",
       "    <tr>\n",
       "      <th>...</th>\n",
       "      <td>...</td>\n",
       "      <td>...</td>\n",
       "    </tr>\n",
       "    <tr>\n",
       "      <th>8030</th>\n",
       "      <td>SA73 3</td>\n",
       "      <td>5275.443458</td>\n",
       "    </tr>\n",
       "    <tr>\n",
       "      <th>8031</th>\n",
       "      <td>SA8  3</td>\n",
       "      <td>4795.766270</td>\n",
       "    </tr>\n",
       "    <tr>\n",
       "      <th>8032</th>\n",
       "      <td>SA8  4</td>\n",
       "      <td>7830.704957</td>\n",
       "    </tr>\n",
       "    <tr>\n",
       "      <th>8033</th>\n",
       "      <td>SA9  1</td>\n",
       "      <td>7942.327951</td>\n",
       "    </tr>\n",
       "    <tr>\n",
       "      <th>8034</th>\n",
       "      <td>SA9  2</td>\n",
       "      <td>7321.865005</td>\n",
       "    </tr>\n",
       "  </tbody>\n",
       "</table>\n",
       "<p>8035 rows × 2 columns</p>\n",
       "</div>"
      ],
      "text/plain": [
       "     Postcode    Population\n",
       "0      AL1  1   5483.605256\n",
       "1      AL1  2   6559.610689\n",
       "2      AL1  3   4202.454863\n",
       "3      AL1  4   9853.997416\n",
       "4      AL1  5  10283.393976\n",
       "...       ...           ...\n",
       "8030   SA73 3   5275.443458\n",
       "8031   SA8  3   4795.766270\n",
       "8032   SA8  4   7830.704957\n",
       "8033   SA9  1   7942.327951\n",
       "8034   SA9  2   7321.865005\n",
       "\n",
       "[8035 rows x 2 columns]"
      ]
     },
     "execution_count": 24,
     "metadata": {},
     "output_type": "execute_result"
    }
   ],
   "source": [
    "popn_2023"
   ]
  },
  {
   "cell_type": "code",
   "execution_count": 25,
   "metadata": {},
   "outputs": [],
   "source": [
    "yrs_conversion = 2023 - 2011\n",
    "ann_gr_rate = 1.00561255390388033 ** (1 / yrs_conversion)\n",
    "popn_2022 = popn_2023.copy()\n",
    "popn_2022['Population'] = popn_2023['Population'] / ann_gr_rate"
   ]
  },
  {
   "cell_type": "code",
   "execution_count": 26,
   "metadata": {},
   "outputs": [
    {
     "data": {
      "text/html": [
       "<div>\n",
       "<style scoped>\n",
       "    .dataframe tbody tr th:only-of-type {\n",
       "        vertical-align: middle;\n",
       "    }\n",
       "\n",
       "    .dataframe tbody tr th {\n",
       "        vertical-align: top;\n",
       "    }\n",
       "\n",
       "    .dataframe thead th {\n",
       "        text-align: right;\n",
       "    }\n",
       "</style>\n",
       "<table border=\"1\" class=\"dataframe\">\n",
       "  <thead>\n",
       "    <tr style=\"text-align: right;\">\n",
       "      <th></th>\n",
       "      <th>Postcode</th>\n",
       "      <th>Population</th>\n",
       "    </tr>\n",
       "  </thead>\n",
       "  <tbody>\n",
       "    <tr>\n",
       "      <th>0</th>\n",
       "      <td>AL1  1</td>\n",
       "      <td>5481.048271</td>\n",
       "    </tr>\n",
       "    <tr>\n",
       "      <th>1</th>\n",
       "      <td>AL1  2</td>\n",
       "      <td>6556.551966</td>\n",
       "    </tr>\n",
       "    <tr>\n",
       "      <th>2</th>\n",
       "      <td>AL1  3</td>\n",
       "      <td>4200.495273</td>\n",
       "    </tr>\n",
       "    <tr>\n",
       "      <th>3</th>\n",
       "      <td>AL1  4</td>\n",
       "      <td>9849.402532</td>\n",
       "    </tr>\n",
       "    <tr>\n",
       "      <th>4</th>\n",
       "      <td>AL1  5</td>\n",
       "      <td>10278.598866</td>\n",
       "    </tr>\n",
       "    <tr>\n",
       "      <th>...</th>\n",
       "      <td>...</td>\n",
       "      <td>...</td>\n",
       "    </tr>\n",
       "    <tr>\n",
       "      <th>8030</th>\n",
       "      <td>SA73 3</td>\n",
       "      <td>5272.983537</td>\n",
       "    </tr>\n",
       "    <tr>\n",
       "      <th>8031</th>\n",
       "      <td>SA8  3</td>\n",
       "      <td>4793.530021</td>\n",
       "    </tr>\n",
       "    <tr>\n",
       "      <th>8032</th>\n",
       "      <td>SA8  4</td>\n",
       "      <td>7827.053527</td>\n",
       "    </tr>\n",
       "    <tr>\n",
       "      <th>8033</th>\n",
       "      <td>SA9  1</td>\n",
       "      <td>7938.624472</td>\n",
       "    </tr>\n",
       "    <tr>\n",
       "      <th>8034</th>\n",
       "      <td>SA9  2</td>\n",
       "      <td>7318.450845</td>\n",
       "    </tr>\n",
       "  </tbody>\n",
       "</table>\n",
       "<p>8035 rows × 2 columns</p>\n",
       "</div>"
      ],
      "text/plain": [
       "     Postcode    Population\n",
       "0      AL1  1   5481.048271\n",
       "1      AL1  2   6556.551966\n",
       "2      AL1  3   4200.495273\n",
       "3      AL1  4   9849.402532\n",
       "4      AL1  5  10278.598866\n",
       "...       ...           ...\n",
       "8030   SA73 3   5272.983537\n",
       "8031   SA8  3   4793.530021\n",
       "8032   SA8  4   7827.053527\n",
       "8033   SA9  1   7938.624472\n",
       "8034   SA9  2   7318.450845\n",
       "\n",
       "[8035 rows x 2 columns]"
      ]
     },
     "execution_count": 26,
     "metadata": {},
     "output_type": "execute_result"
    }
   ],
   "source": [
    "popn_2022"
   ]
  },
  {
   "cell_type": "code",
   "execution_count": 27,
   "metadata": {},
   "outputs": [],
   "source": [
    "popn_2023['Postcode'] = popn_2023['Postcode'].str.extract(r\"^(\\S+)\")\n",
    "popn_2022['Postcode'] = popn_2022['Postcode'].str.extract(r\"^(\\S+)\")"
   ]
  },
  {
   "cell_type": "code",
   "execution_count": 28,
   "metadata": {},
   "outputs": [],
   "source": [
    "bristol_crime['Postcode'] = bristol_crime['postcode'].str.extract(r\"^(\\S+)\")\n",
    "bristol_crime['Year'] = pd.to_datetime(bristol_crime['Year'],format='%Y-%m',errors='coerce')"
   ]
  },
  {
   "cell_type": "code",
   "execution_count": 29,
   "metadata": {},
   "outputs": [],
   "source": [
    "cornwall_crime['Postcode'] = cornwall_crime['postcode'].str.extract(r\"^(\\S+)\")\n",
    "cornwall_crime['Year'] = pd.to_datetime(cornwall_crime['Year'], format='%Y-%m',errors='coerce')"
   ]
  },
  {
   "cell_type": "code",
   "execution_count": 30,
   "metadata": {},
   "outputs": [],
   "source": [
    "combined_crime = pd.concat([bristol_crime, cornwall_crime], ignore_index=True)"
   ]
  },
  {
   "cell_type": "code",
   "execution_count": 39,
   "metadata": {},
   "outputs": [
    {
     "data": {
      "text/plain": [
       "0          NW7\n",
       "1         BS14\n",
       "2         BS14\n",
       "3         BS14\n",
       "4         BS14\n",
       "          ... \n",
       "689004     EX1\n",
       "689005     EX1\n",
       "689006     EX1\n",
       "689007     EX1\n",
       "689008     EX1\n",
       "Name: Postcode, Length: 689009, dtype: object"
      ]
     },
     "execution_count": 39,
     "metadata": {},
     "output_type": "execute_result"
    }
   ],
   "source": [
    "combined_crime['Postcode']"
   ]
  },
  {
   "cell_type": "code",
   "execution_count": 33,
   "metadata": {},
   "outputs": [],
   "source": [
    "town_dataset = pd.read_csv(\"/Users/anukul/Desktop/Anukul/Learning/DataScience/Cleaning/cleaned-data/town_dataset.csv\")"
   ]
  },
  {
   "cell_type": "code",
   "execution_count": 34,
   "metadata": {},
   "outputs": [
    {
     "data": {
      "text/plain": [
       "Index(['short_postal_code', 'town/city', 'county'], dtype='object')"
      ]
     },
     "execution_count": 34,
     "metadata": {},
     "output_type": "execute_result"
    }
   ],
   "source": [
    "town_dataset.columns"
   ]
  },
  {
   "cell_type": "code",
   "execution_count": 35,
   "metadata": {},
   "outputs": [],
   "source": [
    "town_dataset = town_dataset.rename(columns={\n",
    "    'short_postal_code': 'Short_Postcode',\n",
    "    'town/city': 'Town_City',\n",
    "    'county': 'County'\n",
    "})"
   ]
  },
  {
   "cell_type": "code",
   "execution_count": 36,
   "metadata": {},
   "outputs": [],
   "source": [
    "town_postcodes = town_dataset[['Short_Postcode', 'Town_City']]"
   ]
  },
  {
   "cell_type": "code",
   "execution_count": 38,
   "metadata": {},
   "outputs": [
    {
     "data": {
      "text/plain": [
       "0        TR27\n",
       "1        TR27\n",
       "2        TR27\n",
       "3        PL14\n",
       "4        PL30\n",
       "         ... \n",
       "75179    BS15\n",
       "75180    BS15\n",
       "75181    BS16\n",
       "75182    BS14\n",
       "75183    BS16\n",
       "Name: Short_Postcode, Length: 75184, dtype: object"
      ]
     },
     "execution_count": 38,
     "metadata": {},
     "output_type": "execute_result"
    }
   ],
   "source": [
    "town_postcodes['Short_Postcode']"
   ]
  },
  {
   "cell_type": "code",
   "execution_count": 20,
   "metadata": {},
   "outputs": [
    {
     "ename": "TypeError",
     "evalue": "'numpy.dtypes.ObjectDType' object is not callable",
     "output_type": "error",
     "traceback": [
      "\u001b[0;31m---------------------------------------------------------------------------\u001b[0m",
      "\u001b[0;31mTypeError\u001b[0m                                 Traceback (most recent call last)",
      "Cell \u001b[0;32mIn[20], line 1\u001b[0m\n\u001b[0;32m----> 1\u001b[0m \u001b[43mcombined_crime\u001b[49m\u001b[43m[\u001b[49m\u001b[38;5;124;43m'\u001b[39;49m\u001b[38;5;124;43mPostcode\u001b[39;49m\u001b[38;5;124;43m'\u001b[39;49m\u001b[43m]\u001b[49m\u001b[38;5;241;43m.\u001b[39;49m\u001b[43mdtype\u001b[49m\u001b[43m(\u001b[49m\u001b[43m)\u001b[49m\n",
      "\u001b[0;31mTypeError\u001b[0m: 'numpy.dtypes.ObjectDType' object is not callable"
     ]
    }
   ],
   "source": [
    "combined_crime['Postcode'].dtype()"
   ]
  },
  {
   "cell_type": "code",
   "execution_count": 40,
   "metadata": {},
   "outputs": [
    {
     "name": "stderr",
     "output_type": "stream",
     "text": [
      "/var/folders/jx/pym939rn0_zgvv112pfcjs8r0000gn/T/ipykernel_27239/420176663.py:2: SettingWithCopyWarning: \n",
      "A value is trying to be set on a copy of a slice from a DataFrame.\n",
      "Try using .loc[row_indexer,col_indexer] = value instead\n",
      "\n",
      "See the caveats in the documentation: https://pandas.pydata.org/pandas-docs/stable/user_guide/indexing.html#returning-a-view-versus-a-copy\n",
      "  town_postcodes['Short_Postcode'] = town_postcodes['Short_Postcode'].str.strip()\n"
     ]
    }
   ],
   "source": [
    "combined_crime['Postcode'] = combined_crime['Postcode'].str.strip()\n",
    "town_postcodes['Short_Postcode'] = town_postcodes['Short_Postcode'].str.strip()"
   ]
  },
  {
   "cell_type": "code",
   "execution_count": 21,
   "metadata": {},
   "outputs": [],
   "source": [
    "combined_crime_with_town = combined_crime.merge(town_postcodes, left_on='Postcode', right_on='Short_Postcode', how='left')"
   ]
  },
  {
   "cell_type": "code",
   "execution_count": 41,
   "metadata": {},
   "outputs": [
    {
     "ename": "",
     "evalue": "",
     "output_type": "error",
     "traceback": [
      "\u001b[1;31mThe Kernel crashed while executing code in the current cell or a previous cell. \n",
      "\u001b[1;31mPlease review the code in the cell(s) to identify a possible cause of the failure. \n",
      "\u001b[1;31mClick <a href='https://aka.ms/vscodeJupyterKernelCrash'>here</a> for more info. \n",
      "\u001b[1;31mView Jupyter <a href='command:jupyter.viewOutput'>log</a> for further details."
     ]
    }
   ],
   "source": [
    "combined_crime.set_index('Postcode', inplace=True)\n",
    "town_postcodes.set_index('Short_Postcode', inplace=True)\n",
    "combined_crime_with_town = combined_crime.join(town_postcodes, how='left')"
   ]
  },
  {
   "cell_type": "code",
   "execution_count": null,
   "metadata": {},
   "outputs": [],
   "source": []
  }
 ],
 "metadata": {
  "kernelspec": {
   "display_name": "Python 3",
   "language": "python",
   "name": "python3"
  },
  "language_info": {
   "codemirror_mode": {
    "name": "ipython",
    "version": 3
   },
   "file_extension": ".py",
   "mimetype": "text/x-python",
   "name": "python",
   "nbconvert_exporter": "python",
   "pygments_lexer": "ipython3",
   "version": "3.12.3"
  }
 },
 "nbformat": 4,
 "nbformat_minor": 2
}
