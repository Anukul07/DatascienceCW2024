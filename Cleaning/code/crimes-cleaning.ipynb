{
 "cells": [
  {
   "cell_type": "code",
   "execution_count": 28,
   "metadata": {},
   "outputs": [],
   "source": [
    "import pandas as pd\n",
    "import numpy as np\n",
    "from scipy.stats import mode"
   ]
  },
  {
   "cell_type": "code",
   "execution_count": 22,
   "metadata": {},
   "outputs": [],
   "source": [
    "bristol_file_paths = {\n",
    "    \"2021\" : {\n",
    "        \"bs-2021-07\": \"/Users/anukul/Desktop/Anukul/Learning/DataScience/Obtaining/bristol-crimes/2021-07/2021-07-avon-and-somerset-street.csv\",\n",
    "        \"bs-2021-08\": \"/Users/anukul/Desktop/Anukul/Learning/DataScience/Obtaining/bristol-crimes/2021-08/2021-08-avon-and-somerset-street.csv\",\n",
    "        \"bs-2021-09\": \"/Users/anukul/Desktop/Anukul/Learning/DataScience/Obtaining/bristol-crimes/2021-09/2021-09-avon-and-somerset-street.csv\",\n",
    "        \"bs-2021-10\": \"/Users/anukul/Desktop/Anukul/Learning/DataScience/Obtaining/bristol-crimes/2021-10/2021-10-avon-and-somerset-street.csv\",\n",
    "        \"bs-2021-11\": \"/Users/anukul/Desktop/Anukul/Learning/DataScience/Obtaining/bristol-crimes/2021-11/2021-11-avon-and-somerset-street.csv\",\n",
    "        \"bs-2021-12\": \"/Users/anukul/Desktop/Anukul/Learning/DataScience/Obtaining/bristol-crimes/2021-12/2021-12-avon-and-somerset-street.csv\"\n",
    "    },\n",
    "    \"2022\" : {\n",
    "        \"bs-2022-01\": \"/Users/anukul/Desktop/Anukul/Learning/DataScience/Obtaining/bristol-crimes/2022-01/2022-01-avon-and-somerset-street.csv\",\n",
    "        \"bs-2022-02\": \"/Users/anukul/Desktop/Anukul/Learning/DataScience/Obtaining/bristol-crimes/2022-02/2022-02-avon-and-somerset-street.csv\",\n",
    "        \"bs-2022-03\": \"/Users/anukul/Desktop/Anukul/Learning/DataScience/Obtaining/bristol-crimes/2022-03/2022-03-avon-and-somerset-street.csv\",\n",
    "        \"bs-2022-04\": \"/Users/anukul/Desktop/Anukul/Learning/DataScience/Obtaining/bristol-crimes/2022-04/2022-04-avon-and-somerset-street.csv\",\n",
    "        \"bs-2022-05\": \"/Users/anukul/Desktop/Anukul/Learning/DataScience/Obtaining/bristol-crimes/2022-05/2022-05-avon-and-somerset-street.csv\",\n",
    "        \"bs-2022-06\": \"/Users/anukul/Desktop/Anukul/Learning/DataScience/Obtaining/bristol-crimes/2022-06/2022-06-avon-and-somerset-street.csv\",\n",
    "        \"bs-2022-07\": \"/Users/anukul/Desktop/Anukul/Learning/DataScience/Obtaining/bristol-crimes/2022-07/2022-07-avon-and-somerset-street.csv\",\n",
    "        \"bs-2022-08\": \"/Users/anukul/Desktop/Anukul/Learning/DataScience/Obtaining/bristol-crimes/2022-08/2022-08-avon-and-somerset-street.csv\",\n",
    "        \"bs-2022-09\": \"/Users/anukul/Desktop/Anukul/Learning/DataScience/Obtaining/bristol-crimes/2022-09/2022-09-avon-and-somerset-street.csv\",\n",
    "        \"bs-2022-10\": \"/Users/anukul/Desktop/Anukul/Learning/DataScience/Obtaining/bristol-crimes/2022-10/2022-10-avon-and-somerset-street.csv\",\n",
    "        \"bs-2022-11\": \"/Users/anukul/Desktop/Anukul/Learning/DataScience/Obtaining/bristol-crimes/2022-11/2022-11-avon-and-somerset-street.csv\",\n",
    "        \"bs-2022-12\": \"/Users/anukul/Desktop/Anukul/Learning/DataScience/Obtaining/bristol-crimes/2022-12/2022-12-avon-and-somerset-street.csv\"\n",
    "    },\n",
    "    \"2023\" : {\n",
    "        \"bs-2023-01\": \"/Users/anukul/Desktop/Anukul/Learning/DataScience/Obtaining/bristol-crimes/2023-01/2023-01-avon-and-somerset-street.csv\",\n",
    "        \"bs-2023-02\": \"/Users/anukul/Desktop/Anukul/Learning/DataScience/Obtaining/bristol-crimes/2023-02/2023-02-avon-and-somerset-street.csv\",\n",
    "        \"bs-2023-03\": \"/Users/anukul/Desktop/Anukul/Learning/DataScience/Obtaining/bristol-crimes/2023-03/2023-03-avon-and-somerset-street.csv\",\n",
    "        \"bs-2023-04\": \"/Users/anukul/Desktop/Anukul/Learning/DataScience/Obtaining/bristol-crimes/2023-04/2023-04-avon-and-somerset-street.csv\",\n",
    "        \"bs-2023-05\": \"/Users/anukul/Desktop/Anukul/Learning/DataScience/Obtaining/bristol-crimes/2023-05/2023-05-avon-and-somerset-street.csv\",\n",
    "        \"bs-2023-06\": \"/Users/anukul/Desktop/Anukul/Learning/DataScience/Obtaining/bristol-crimes/2023-06/2023-06-avon-and-somerset-street.csv\",\n",
    "        \"bs-2023-07\": \"/Users/anukul/Desktop/Anukul/Learning/DataScience/Obtaining/bristol-crimes/2023-07/2023-07-avon-and-somerset-street.csv\",\n",
    "        \"bs-2023-08\": \"/Users/anukul/Desktop/Anukul/Learning/DataScience/Obtaining/bristol-crimes/2023-08/2023-08-avon-and-somerset-street.csv\",\n",
    "        \"bs-2023-09\": \"/Users/anukul/Desktop/Anukul/Learning/DataScience/Obtaining/bristol-crimes/2023-09/2023-09-avon-and-somerset-street.csv\",\n",
    "        \"bs-2023-10\": \"/Users/anukul/Desktop/Anukul/Learning/DataScience/Obtaining/bristol-crimes/2023-10/2023-10-avon-and-somerset-street.csv\",\n",
    "        \"bs-2023-11\": \"/Users/anukul/Desktop/Anukul/Learning/DataScience/Obtaining/bristol-crimes/2023-11/2023-11-avon-and-somerset-street.csv\",\n",
    "        \"bs-2023-12\": \"/Users/anukul/Desktop/Anukul/Learning/DataScience/Obtaining/bristol-crimes/2023-12/2023-12-avon-and-somerset-street.csv\"\n",
    "    },\n",
    "    \"2024\" : {\n",
    "        \"bs-2024-01\": \"/Users/anukul/Desktop/Anukul/Learning/DataScience/Obtaining/bristol-crimes/2024-01/2024-01-avon-and-somerset-street.csv\",\n",
    "        \"bs-2024-02\": \"/Users/anukul/Desktop/Anukul/Learning/DataScience/Obtaining/bristol-crimes/2024-02/2024-02-avon-and-somerset-street.csv\",\n",
    "        \"bs-2024-03\": \"/Users/anukul/Desktop/Anukul/Learning/DataScience/Obtaining/bristol-crimes/2024-03/2024-03-avon-and-somerset-street.csv\",\n",
    "        \"bs-2024-04\": \"/Users/anukul/Desktop/Anukul/Learning/DataScience/Obtaining/bristol-crimes/2024-04/2024-04-avon-and-somerset-street.csv\",\n",
    "        \"bs-2024-05\": \"/Users/anukul/Desktop/Anukul/Learning/DataScience/Obtaining/bristol-crimes/2024-05/2024-05-avon-and-somerset-street.csv\",\n",
    "        \"bs-2024-06\": \"/Users/anukul/Desktop/Anukul/Learning/DataScience/Obtaining/bristol-crimes/2024-06/2024-06-avon-and-somerset-street.csv\"\n",
    "    },\n",
    "    \n",
    "}"
   ]
  },
  {
   "cell_type": "code",
   "execution_count": 11,
   "metadata": {},
   "outputs": [],
   "source": [
    "file_paths_bs_2022 = {\n",
    "    \"bs-2022-01\": \"/Users/anukul/Desktop/Anukul/Learning/DataScience/Obtaining/bristol-crimes/2022-01/2022-01-avon-and-somerset-street.csv\",\n",
    "    \"bs-2022-02\": \"/Users/anukul/Desktop/Anukul/Learning/DataScience/Obtaining/bristol-crimes/2022-02/2022-02-avon-and-somerset-street.csv\",\n",
    "    \"bs-2022-03\": \"/Users/anukul/Desktop/Anukul/Learning/DataScience/Obtaining/bristol-crimes/2022-03/2022-03-avon-and-somerset-street.csv\",\n",
    "    \"bs-2022-04\": \"/Users/anukul/Desktop/Anukul/Learning/DataScience/Obtaining/bristol-crimes/2022-04/2022-04-avon-and-somerset-street.csv\",\n",
    "    \"bs-2022-05\": \"/Users/anukul/Desktop/Anukul/Learning/DataScience/Obtaining/bristol-crimes/2022-05/2022-05-avon-and-somerset-street.csv\",\n",
    "    \"bs-2022-06\": \"/Users/anukul/Desktop/Anukul/Learning/DataScience/Obtaining/bristol-crimes/2022-06/2022-06-avon-and-somerset-street.csv\",\n",
    "    \"bs-2022-07\": \"/Users/anukul/Desktop/Anukul/Learning/DataScience/Obtaining/bristol-crimes/2022-07/2022-07-avon-and-somerset-street.csv\",\n",
    "    \"bs-2022-08\": \"/Users/anukul/Desktop/Anukul/Learning/DataScience/Obtaining/bristol-crimes/2022-08/2022-08-avon-and-somerset-street.csv\",\n",
    "    \"bs-2022-09\": \"/Users/anukul/Desktop/Anukul/Learning/DataScience/Obtaining/bristol-crimes/2022-09/2022-09-avon-and-somerset-street.csv\",\n",
    "    \"bs-2022-10\": \"/Users/anukul/Desktop/Anukul/Learning/DataScience/Obtaining/bristol-crimes/2022-10/2022-10-avon-and-somerset-street.csv\",\n",
    "    \"bs-2022-11\": \"/Users/anukul/Desktop/Anukul/Learning/DataScience/Obtaining/bristol-crimes/2022-11/2022-11-avon-and-somerset-street.csv\",\n",
    "    \"bs-2022-12\": \"/Users/anukul/Desktop/Anukul/Learning/DataScience/Obtaining/bristol-crimes/2022-12/2022-12-avon-and-somerset-street.csv\"\n",
    "}"
   ]
  },
  {
   "cell_type": "code",
   "execution_count": 13,
   "metadata": {},
   "outputs": [],
   "source": [
    "file_paths_bs_2023 = {\n",
    "    \"bs-2023-01\": \"/Users/anukul/Desktop/Anukul/Learning/DataScience/Obtaining/bristol-crimes/2023-01/2023-01-avon-and-somerset-street.csv\",\n",
    "    \"bs-2023-02\": \"/Users/anukul/Desktop/Anukul/Learning/DataScience/Obtaining/bristol-crimes/2023-02/2023-02-avon-and-somerset-street.csv\",\n",
    "    \"bs-2023-03\": \"/Users/anukul/Desktop/Anukul/Learning/DataScience/Obtaining/bristol-crimes/2023-03/2023-03-avon-and-somerset-street.csv\",\n",
    "    \"bs-2023-04\": \"/Users/anukul/Desktop/Anukul/Learning/DataScience/Obtaining/bristol-crimes/2023-04/2023-04-avon-and-somerset-street.csv\",\n",
    "    \"bs-2023-05\": \"/Users/anukul/Desktop/Anukul/Learning/DataScience/Obtaining/bristol-crimes/2023-05/2023-05-avon-and-somerset-street.csv\",\n",
    "    \"bs-2023-06\": \"/Users/anukul/Desktop/Anukul/Learning/DataScience/Obtaining/bristol-crimes/2023-06/2023-06-avon-and-somerset-street.csv\",\n",
    "    \"bs-2023-07\": \"/Users/anukul/Desktop/Anukul/Learning/DataScience/Obtaining/bristol-crimes/2023-07/2023-07-avon-and-somerset-street.csv\",\n",
    "    \"bs-2023-08\": \"/Users/anukul/Desktop/Anukul/Learning/DataScience/Obtaining/bristol-crimes/2023-08/2023-08-avon-and-somerset-street.csv\",\n",
    "    \"bs-2023-09\": \"/Users/anukul/Desktop/Anukul/Learning/DataScience/Obtaining/bristol-crimes/2023-09/2023-09-avon-and-somerset-street.csv\",\n",
    "    \"bs-2023-10\": \"/Users/anukul/Desktop/Anukul/Learning/DataScience/Obtaining/bristol-crimes/2023-10/2023-10-avon-and-somerset-street.csv\",\n",
    "    \"bs-2023-11\": \"/Users/anukul/Desktop/Anukul/Learning/DataScience/Obtaining/bristol-crimes/2023-11/2023-11-avon-and-somerset-street.csv\",\n",
    "    \"bs-2023-12\": \"/Users/anukul/Desktop/Anukul/Learning/DataScience/Obtaining/bristol-crimes/2023-12/2023-12-avon-and-somerset-street.csv\"\n",
    "}"
   ]
  },
  {
   "cell_type": "code",
   "execution_count": 14,
   "metadata": {},
   "outputs": [],
   "source": [
    "file_paths_bs_2024 = {\n",
    "    \"bs-2024-01\": \"/Users/anukul/Desktop/Anukul/Learning/DataScience/Obtaining/bristol-crimes/2024-01/2024-01-avon-and-somerset-street.csv\",\n",
    "    \"bs-2024-02\": \"/Users/anukul/Desktop/Anukul/Learning/DataScience/Obtaining/bristol-crimes/2024-02/2024-02-avon-and-somerset-street.csv\",\n",
    "    \"bs-2024-03\": \"/Users/anukul/Desktop/Anukul/Learning/DataScience/Obtaining/bristol-crimes/2024-03/2024-03-avon-and-somerset-street.csv\",\n",
    "    \"bs-2024-04\": \"/Users/anukul/Desktop/Anukul/Learning/DataScience/Obtaining/bristol-crimes/2024-04/2024-04-avon-and-somerset-street.csv\",\n",
    "    \"bs-2024-05\": \"/Users/anukul/Desktop/Anukul/Learning/DataScience/Obtaining/bristol-crimes/2024-05/2024-05-avon-and-somerset-street.csv\",\n",
    "    \"bs-2024-06\": \"/Users/anukul/Desktop/Anukul/Learning/DataScience/Obtaining/bristol-crimes/2024-06/2024-06-avon-and-somerset-street.csv\"\n",
    "}"
   ]
  },
  {
   "cell_type": "markdown",
   "metadata": {},
   "source": [
    "This function is created to read and clean each file"
   ]
  },
  {
   "cell_type": "code",
   "execution_count": 15,
   "metadata": {},
   "outputs": [],
   "source": [
    "def read_and_clean_bs(file_path):\n",
    "    df = pd.read_csv(file_path) \n",
    "    df = df.dropna(subset=['Crime ID']) \n",
    "    return df"
   ]
  },
  {
   "cell_type": "markdown",
   "metadata": {},
   "source": [
    "this function renames columns"
   ]
  },
  {
   "cell_type": "code",
   "execution_count": 16,
   "metadata": {},
   "outputs": [],
   "source": [
    "def rename_columns_bs(df):\n",
    "    df = df.rename(columns={\n",
    "        'Crime ID': 'Crime_ID',\n",
    "        'Reported by': 'Reported_by',\n",
    "        'Falls within': 'Falls_Within',\n",
    "        'LSOA code': 'LSOA_code',\n",
    "        'LSOA name': 'LSOA_name',\n",
    "        'Crime type': 'Crime_type',\n",
    "        'Last outcome category': 'Last_outcome_category'\n",
    "    })\n",
    "    return df"
   ]
  },
  {
   "cell_type": "markdown",
   "metadata": {},
   "source": [
    "This function  applies read_and_clean_bs and rename_columns_bs for a list of file paths"
   ]
  },
  {
   "cell_type": "code",
   "execution_count": 17,
   "metadata": {},
   "outputs": [],
   "source": [
    "def process_crime_data(file_paths):\n",
    "    crime_data_list = []\n",
    "    for path in file_paths.values():\n",
    "        df = read_and_clean_bs(path)\n",
    "        df = rename_columns_bs(df)\n",
    "        crime_data_list.append(df)\n",
    "    combined_df = pd.concat(crime_data_list, ignore_index=True)\n",
    "    combined_df = combined_df.drop(columns=['Context'], errors='ignore') \n",
    "    combined_df = combined_df.drop_duplicates()\n",
    "    combined_df['Longitude'] = combined_df['Longitude'].fillna(combined_df['Longitude'].median())\n",
    "    combined_df['Latitude'] = combined_df['Latitude'].fillna(combined_df['Latitude'].median())\n",
    "    combined_df['LSOA_code'] = combined_df['LSOA_code'].fillna(combined_df['LSOA_code'].mode()[0])\n",
    "    combined_df['LSOA_name'] = combined_df['LSOA_name'].fillna(combined_df['LSOA_name'].mode()[0])\n",
    "    return combined_df"
   ]
  },
  {
   "cell_type": "code",
   "execution_count": 18,
   "metadata": {},
   "outputs": [],
   "source": [
    "bsCrimeRate2021 = process_crime_data(file_paths_bs_2021)\n",
    "bsCrimeRate2022 = process_crime_data(file_paths_bs_2022)\n",
    "bsCrimeRate2023 = process_crime_data(file_paths_bs_2023)\n",
    "bsCrimeRate2024 = process_crime_data(file_paths_bs_2024)"
   ]
  },
  {
   "cell_type": "code",
   "execution_count": 23,
   "metadata": {},
   "outputs": [
    {
     "data": {
      "text/plain": [
       "Index(['Crime_ID', 'Month', 'Reported_by', 'Falls_Within', 'Longitude',\n",
       "       'Latitude', 'Location', 'LSOA_code', 'LSOA_name', 'Crime_type',\n",
       "       'Last_outcome_category'],\n",
       "      dtype='object')"
      ]
     },
     "execution_count": 23,
     "metadata": {},
     "output_type": "execute_result"
    }
   ],
   "source": [
    "bsCrimeRate2021.columns"
   ]
  },
  {
   "cell_type": "code",
   "execution_count": 22,
   "metadata": {},
   "outputs": [
    {
     "data": {
      "text/html": [
       "<div>\n",
       "<style scoped>\n",
       "    .dataframe tbody tr th:only-of-type {\n",
       "        vertical-align: middle;\n",
       "    }\n",
       "\n",
       "    .dataframe tbody tr th {\n",
       "        vertical-align: top;\n",
       "    }\n",
       "\n",
       "    .dataframe thead th {\n",
       "        text-align: right;\n",
       "    }\n",
       "</style>\n",
       "<table border=\"1\" class=\"dataframe\">\n",
       "  <thead>\n",
       "    <tr style=\"text-align: right;\">\n",
       "      <th></th>\n",
       "      <th>Crime_ID</th>\n",
       "      <th>Month</th>\n",
       "      <th>Reported_by</th>\n",
       "      <th>Falls_Within</th>\n",
       "      <th>Longitude</th>\n",
       "      <th>Latitude</th>\n",
       "      <th>Location</th>\n",
       "      <th>LSOA_code</th>\n",
       "      <th>LSOA_name</th>\n",
       "      <th>Crime_type</th>\n",
       "      <th>Last_outcome_category</th>\n",
       "    </tr>\n",
       "  </thead>\n",
       "  <tbody>\n",
       "    <tr>\n",
       "      <th>0</th>\n",
       "      <td>b6252da0ac9bdc6c5812009594ac86bf7c6706abfead67...</td>\n",
       "      <td>2022-01</td>\n",
       "      <td>Avon and Somerset Constabulary</td>\n",
       "      <td>Avon and Somerset Constabulary</td>\n",
       "      <td>-2.515072</td>\n",
       "      <td>51.419357</td>\n",
       "      <td>On or near Stockwood Hill</td>\n",
       "      <td>E01014399</td>\n",
       "      <td>Bath and North East Somerset 001A</td>\n",
       "      <td>Public order</td>\n",
       "      <td>Status update unavailable</td>\n",
       "    </tr>\n",
       "    <tr>\n",
       "      <th>1</th>\n",
       "      <td>e5542492acc0b430713e93efcbc80b10bc79759dbfb898...</td>\n",
       "      <td>2022-01</td>\n",
       "      <td>Avon and Somerset Constabulary</td>\n",
       "      <td>Avon and Somerset Constabulary</td>\n",
       "      <td>-2.511761</td>\n",
       "      <td>51.409966</td>\n",
       "      <td>On or near Caernarvon Close</td>\n",
       "      <td>E01014399</td>\n",
       "      <td>Bath and North East Somerset 001A</td>\n",
       "      <td>Robbery</td>\n",
       "      <td>Unable to prosecute suspect</td>\n",
       "    </tr>\n",
       "    <tr>\n",
       "      <th>2</th>\n",
       "      <td>bcddb049476bd9c5fba16b80c9d9ffe1f99bba912e3d90...</td>\n",
       "      <td>2022-01</td>\n",
       "      <td>Avon and Somerset Constabulary</td>\n",
       "      <td>Avon and Somerset Constabulary</td>\n",
       "      <td>-2.515072</td>\n",
       "      <td>51.419357</td>\n",
       "      <td>On or near Stockwood Hill</td>\n",
       "      <td>E01014399</td>\n",
       "      <td>Bath and North East Somerset 001A</td>\n",
       "      <td>Vehicle crime</td>\n",
       "      <td>Status update unavailable</td>\n",
       "    </tr>\n",
       "    <tr>\n",
       "      <th>3</th>\n",
       "      <td>d4432964815610cb05ad67e46993dad0ef53722d623129...</td>\n",
       "      <td>2022-01</td>\n",
       "      <td>Avon and Somerset Constabulary</td>\n",
       "      <td>Avon and Somerset Constabulary</td>\n",
       "      <td>-2.495055</td>\n",
       "      <td>51.422132</td>\n",
       "      <td>On or near Cross Street</td>\n",
       "      <td>E01014399</td>\n",
       "      <td>Bath and North East Somerset 001A</td>\n",
       "      <td>Vehicle crime</td>\n",
       "      <td>Status update unavailable</td>\n",
       "    </tr>\n",
       "    <tr>\n",
       "      <th>4</th>\n",
       "      <td>1f1c32ae271aa985d9d5e410906c63248d22aed9c68ac2...</td>\n",
       "      <td>2022-01</td>\n",
       "      <td>Avon and Somerset Constabulary</td>\n",
       "      <td>Avon and Somerset Constabulary</td>\n",
       "      <td>-2.512773</td>\n",
       "      <td>51.411751</td>\n",
       "      <td>On or near Westfield Close</td>\n",
       "      <td>E01014399</td>\n",
       "      <td>Bath and North East Somerset 001A</td>\n",
       "      <td>Vehicle crime</td>\n",
       "      <td>Status update unavailable</td>\n",
       "    </tr>\n",
       "  </tbody>\n",
       "</table>\n",
       "</div>"
      ],
      "text/plain": [
       "                                            Crime_ID    Month  \\\n",
       "0  b6252da0ac9bdc6c5812009594ac86bf7c6706abfead67...  2022-01   \n",
       "1  e5542492acc0b430713e93efcbc80b10bc79759dbfb898...  2022-01   \n",
       "2  bcddb049476bd9c5fba16b80c9d9ffe1f99bba912e3d90...  2022-01   \n",
       "3  d4432964815610cb05ad67e46993dad0ef53722d623129...  2022-01   \n",
       "4  1f1c32ae271aa985d9d5e410906c63248d22aed9c68ac2...  2022-01   \n",
       "\n",
       "                      Reported_by                    Falls_Within  Longitude  \\\n",
       "0  Avon and Somerset Constabulary  Avon and Somerset Constabulary  -2.515072   \n",
       "1  Avon and Somerset Constabulary  Avon and Somerset Constabulary  -2.511761   \n",
       "2  Avon and Somerset Constabulary  Avon and Somerset Constabulary  -2.515072   \n",
       "3  Avon and Somerset Constabulary  Avon and Somerset Constabulary  -2.495055   \n",
       "4  Avon and Somerset Constabulary  Avon and Somerset Constabulary  -2.512773   \n",
       "\n",
       "    Latitude                     Location  LSOA_code  \\\n",
       "0  51.419357    On or near Stockwood Hill  E01014399   \n",
       "1  51.409966  On or near Caernarvon Close  E01014399   \n",
       "2  51.419357    On or near Stockwood Hill  E01014399   \n",
       "3  51.422132      On or near Cross Street  E01014399   \n",
       "4  51.411751   On or near Westfield Close  E01014399   \n",
       "\n",
       "                           LSOA_name     Crime_type  \\\n",
       "0  Bath and North East Somerset 001A   Public order   \n",
       "1  Bath and North East Somerset 001A        Robbery   \n",
       "2  Bath and North East Somerset 001A  Vehicle crime   \n",
       "3  Bath and North East Somerset 001A  Vehicle crime   \n",
       "4  Bath and North East Somerset 001A  Vehicle crime   \n",
       "\n",
       "         Last_outcome_category  \n",
       "0    Status update unavailable  \n",
       "1  Unable to prosecute suspect  \n",
       "2    Status update unavailable  \n",
       "3    Status update unavailable  \n",
       "4    Status update unavailable  "
      ]
     },
     "execution_count": 22,
     "metadata": {},
     "output_type": "execute_result"
    }
   ],
   "source": [
    "bsCrimeRate2022.head()"
   ]
  },
  {
   "cell_type": "markdown",
   "metadata": {},
   "source": [
    "Repeating all the steps from above for cornwall."
   ]
  },
  {
   "cell_type": "code",
   "execution_count": 37,
   "metadata": {},
   "outputs": [],
   "source": [
    "file_paths_cornwall = {\n",
    "    \"2021\": [\n",
    "        Path(\"/Users/anukul/Desktop/Anukul/Learning/DataScience/Obtaining/cornwall-crimes/2021-07/2021-07-devon-and-cornwall-street.csv\"),\n",
    "        Path(\"/Users/anukul/Desktop/Anukul/Learning/DataScience/Obtaining/cornwall-crimes/2021-08/2021-08-devon-and-cornwall-street.csv\"),\n",
    "        Path(\"/Users/anukul/Desktop/Anukul/Learning/DataScience/Obtaining/cornwall-crimes/2021-09/2021-09-devon-and-cornwall-street.csv\"),\n",
    "        Path(\"/Users/anukul/Desktop/Anukul/Learning/DataScience/Obtaining/cornwall-crimes/2021-10/2021-10-devon-and-cornwall-street.csv\"),\n",
    "        Path(\"/Users/anukul/Desktop/Anukul/Learning/DataScience/Obtaining/cornwall-crimes/2021-11/2021-11-devon-and-cornwall-street.csv\"),\n",
    "        Path(\"/Users/anukul/Desktop/Anukul/Learning/DataScience/Obtaining/cornwall-crimes/2021-12/2021-12-devon-and-cornwall-street.csv\")\n",
    "    ],\n",
    "    \"2022\": [\n",
    "        Path(\"/Users/anukul/Desktop/Anukul/Learning/DataScience/Obtaining/cornwall-crimes/2022-01/2022-01-devon-and-cornwall-street.csv\"),\n",
    "        Path(\"/Users/anukul/Desktop/Anukul/Learning/DataScience/Obtaining/cornwall-crimes/2022-02/2022-02-devon-and-cornwall-street.csv\"),\n",
    "        Path(\"/Users/anukul/Desktop/Anukul/Learning/DataScience/Obtaining/cornwall-crimes/2022-03/2022-03-devon-and-cornwall-street.csv\"),\n",
    "        Path(\"/Users/anukul/Desktop/Anukul/Learning/DataScience/Obtaining/cornwall-crimes/2022-04/2022-04-devon-and-cornwall-street.csv\"),\n",
    "        Path(\"/Users/anukul/Desktop/Anukul/Learning/DataScience/Obtaining/cornwall-crimes/2022-05/2022-05-devon-and-cornwall-street.csv\"),\n",
    "        Path(\"/Users/anukul/Desktop/Anukul/Learning/DataScience/Obtaining/cornwall-crimes/2022-06/2022-06-devon-and-cornwall-street.csv\"),\n",
    "        Path(\"/Users/anukul/Desktop/Anukul/Learning/DataScience/Obtaining/cornwall-crimes/2022-07/2022-07-devon-and-cornwall-street.csv\"),\n",
    "        Path(\"/Users/anukul/Desktop/Anukul/Learning/DataScience/Obtaining/cornwall-crimes/2022-08/2022-08-devon-and-cornwall-street.csv\"),\n",
    "        Path(\"/Users/anukul/Desktop/Anukul/Learning/DataScience/Obtaining/cornwall-crimes/2022-09/2022-09-devon-and-cornwall-street.csv\"),\n",
    "        Path(\"/Users/anukul/Desktop/Anukul/Learning/DataScience/Obtaining/cornwall-crimes/2022-10/2022-10-devon-and-cornwall-street.csv\"),\n",
    "        Path(\"/Users/anukul/Desktop/Anukul/Learning/DataScience/Obtaining/cornwall-crimes/2022-11/2022-11-devon-and-cornwall-street.csv\"),\n",
    "        Path(\"/Users/anukul/Desktop/Anukul/Learning/DataScience/Obtaining/cornwall-crimes/2022-12/2022-12-devon-and-cornwall-street.csv\")\n",
    "    ],\n",
    "    \"2023\": [\n",
    "        Path(\"/Users/anukul/Desktop/Anukul/Learning/DataScience/Obtaining/cornwall-crimes/2023-01/2023-01-devon-and-cornwall-street.csv\"),\n",
    "        Path(\"/Users/anukul/Desktop/Anukul/Learning/DataScience/Obtaining/cornwall-crimes/2023-02/2023-02-devon-and-cornwall-street.csv\"),\n",
    "        Path(\"/Users/anukul/Desktop/Anukul/Learning/DataScience/Obtaining/cornwall-crimes/2023-03/2023-03-devon-and-cornwall-street.csv\"),\n",
    "        Path(\"/Users/anukul/Desktop/Anukul/Learning/DataScience/Obtaining/cornwall-crimes/2023-04/2023-04-devon-and-cornwall-street.csv\"),\n",
    "        Path(\"/Users/anukul/Desktop/Anukul/Learning/DataScience/Obtaining/cornwall-crimes/2023-05/2023-05-devon-and-cornwall-street.csv\"),\n",
    "        Path(\"/Users/anukul/Desktop/Anukul/Learning/DataScience/Obtaining/cornwall-crimes/2023-06/2023-06-devon-and-cornwall-street.csv\"),\n",
    "        Path(\"/Users/anukul/Desktop/Anukul/Learning/DataScience/Obtaining/cornwall-crimes/2023-07/2023-07-devon-and-cornwall-street.csv\"),\n",
    "        Path(\"/Users/anukul/Desktop/Anukul/Learning/DataScience/Obtaining/cornwall-crimes/2023-08/2023-08-devon-and-cornwall-street.csv\"),\n",
    "        Path(\"/Users/anukul/Desktop/Anukul/Learning/DataScience/Obtaining/cornwall-crimes/2023-09/2023-09-devon-and-cornwall-street.csv\"),\n",
    "        Path(\"/Users/anukul/Desktop/Anukul/Learning/DataScience/Obtaining/cornwall-crimes/2023-10/2023-10-devon-and-cornwall-street.csv\"),\n",
    "        Path(\"/Users/anukul/Desktop/Anukul/Learning/DataScience/Obtaining/cornwall-crimes/2023-11/2023-11-devon-and-cornwall-street.csv\"),\n",
    "        Path(\"/Users/anukul/Desktop/Anukul/Learning/DataScience/Obtaining/cornwall-crimes/2023-12/2023-12-devon-and-cornwall-street.csv\")\n",
    "    ],\n",
    "    \"2024\": [\n",
    "        Path(\"/Users/anukul/Desktop/Anukul/Learning/DataScience/Obtaining/cornwall-crimes/2024-01/2024-01-devon-and-cornwall-street.csv\"),\n",
    "        Path(\"/Users/anukul/Desktop/Anukul/Learning/DataScience/Obtaining/cornwall-crimes/2024-02/2024-02-devon-and-cornwall-street.csv\"),\n",
    "        Path(\"/Users/anukul/Desktop/Anukul/Learning/DataScience/Obtaining/cornwall-crimes/2024-03/2024-03-devon-and-cornwall-street.csv\"),\n",
    "        Path(\"/Users/anukul/Desktop/Anukul/Learning/DataScience/Obtaining/cornwall-crimes/2024-04/2024-04-devon-and-cornwall-street.csv\"),\n",
    "        Path(\"/Users/anukul/Desktop/Anukul/Learning/DataScience/Obtaining/cornwall-crimes/2024-05/2024-05-devon-and-cornwall-street.csv\"),\n",
    "        Path(\"/Users/anukul/Desktop/Anukul/Learning/DataScience/Obtaining/cornwall-crimes/2024-06/2024-06-devon-and-cornwall-street.csv\"),\n",
    "    ]\n",
    "}"
   ]
  },
  {
   "cell_type": "code",
   "execution_count": 26,
   "metadata": {},
   "outputs": [],
   "source": [
    "def read_and_clean_cornwall(file_path):\n",
    "    df = pd.read_csv(file_path)\n",
    "    df = df.dropna(subset=['Crime ID']) \n",
    "    return df"
   ]
  },
  {
   "cell_type": "code",
   "execution_count": 27,
   "metadata": {},
   "outputs": [],
   "source": [
    "def rename_columns_cornwall(df):\n",
    "    df = df.rename(columns={\n",
    "        'Crime ID': 'Crime_ID',\n",
    "        'Reported by': 'Reported_by',\n",
    "        'Falls within': 'Falls_Within',\n",
    "        'LSOA code': 'LSOA_code',\n",
    "        'LSOA name': 'LSOA_name',\n",
    "        'Crime type': 'Crime_type',\n",
    "        'Last outcome category': 'Last_outcome_category'\n",
    "    })\n",
    "    return df"
   ]
  },
  {
   "cell_type": "code",
   "execution_count": 34,
   "metadata": {},
   "outputs": [],
   "source": [
    "def process_crime_data(year, file_paths):\n",
    "    crime_data_list = []\n",
    "    \n",
    "    for path in file_paths:\n",
    "        df = read_and_clean_cornwall(path)\n",
    "        df = rename_columns_cornwall(df)\n",
    "        crime_data_list.append(df)\n",
    "    \n",
    "    combined_df = pd.concat(crime_data_list, ignore_index=True)\n",
    "    combined_df = combined_df.drop(columns='Context', errors='ignore')  \n",
    "    combined_df = combined_df.drop_duplicates()  \n",
    "    combined_df['Longitude'] = combined_df['Longitude'].fillna(combined_df['Longitude'].median())\n",
    "    combined_df['Latitude'] = combined_df['Latitude'].fillna(combined_df['Latitude'].median())\n",
    "    combined_df['LSOA_code'] = combined_df['LSOA_code'].fillna(combined_df['LSOA_code'].mode()[0])\n",
    "    combined_df['LSOA_name'] = combined_df['LSOA_name'].fillna(combined_df['LSOA_name'].mode()[0])\n",
    "    \n",
    "    print(f\"Missing values for {year}: {combined_df.isna().sum().sum()}\")\n",
    "    \n",
    "    return combined_df"
   ]
  },
  {
   "cell_type": "code",
   "execution_count": 38,
   "metadata": {},
   "outputs": [
    {
     "name": "stdout",
     "output_type": "stream",
     "text": [
      "Missing values for 2021: 0\n",
      "Missing values for 2022: 0\n",
      "Missing values for 2023: 0\n",
      "Missing values for 2024: 0\n"
     ]
    }
   ],
   "source": [
    "cornwallCrimeRate2021 = process_crime_data(\"2021\", file_paths_cornwall[\"2021\"])\n",
    "cornwallCrimeRate2022 = process_crime_data(\"2022\", file_paths_cornwall[\"2022\"])\n",
    "cornwallCrimeRate2023 = process_crime_data(\"2023\", file_paths_cornwall[\"2023\"])\n",
    "cornwallCrimeRate2024 = process_crime_data(\"2024\", file_paths_cornwall[\"2024\"])"
   ]
  },
  {
   "cell_type": "code",
   "execution_count": 40,
   "metadata": {},
   "outputs": [
    {
     "data": {
      "text/html": [
       "<div>\n",
       "<style scoped>\n",
       "    .dataframe tbody tr th:only-of-type {\n",
       "        vertical-align: middle;\n",
       "    }\n",
       "\n",
       "    .dataframe tbody tr th {\n",
       "        vertical-align: top;\n",
       "    }\n",
       "\n",
       "    .dataframe thead th {\n",
       "        text-align: right;\n",
       "    }\n",
       "</style>\n",
       "<table border=\"1\" class=\"dataframe\">\n",
       "  <thead>\n",
       "    <tr style=\"text-align: right;\">\n",
       "      <th></th>\n",
       "      <th>Crime_ID</th>\n",
       "      <th>Month</th>\n",
       "      <th>Reported_by</th>\n",
       "      <th>Falls_Within</th>\n",
       "      <th>Longitude</th>\n",
       "      <th>Latitude</th>\n",
       "      <th>Location</th>\n",
       "      <th>LSOA_code</th>\n",
       "      <th>LSOA_name</th>\n",
       "      <th>Crime_type</th>\n",
       "      <th>Last_outcome_category</th>\n",
       "    </tr>\n",
       "  </thead>\n",
       "  <tbody>\n",
       "    <tr>\n",
       "      <th>0</th>\n",
       "      <td>48c1007edc34d286b599720b7518058e9f75e6928ca2dc...</td>\n",
       "      <td>2024-01</td>\n",
       "      <td>Devon &amp; Cornwall Police</td>\n",
       "      <td>Devon &amp; Cornwall Police</td>\n",
       "      <td>-1.961000</td>\n",
       "      <td>50.745104</td>\n",
       "      <td>On or near Calder Road</td>\n",
       "      <td>E01015411</td>\n",
       "      <td>Bournemouth, Christchurch and Poole 016E</td>\n",
       "      <td>Other theft</td>\n",
       "      <td>Unable to prosecute suspect</td>\n",
       "    </tr>\n",
       "    <tr>\n",
       "      <th>1</th>\n",
       "      <td>4d913f4f5875e7b7726bb10f1633fdc5d3a47edd16ea5d...</td>\n",
       "      <td>2024-01</td>\n",
       "      <td>Devon &amp; Cornwall Police</td>\n",
       "      <td>Devon &amp; Cornwall Police</td>\n",
       "      <td>-0.758195</td>\n",
       "      <td>51.397477</td>\n",
       "      <td>On or near Fitzroy Close</td>\n",
       "      <td>E01016231</td>\n",
       "      <td>Bracknell Forest 010D</td>\n",
       "      <td>Vehicle crime</td>\n",
       "      <td>Investigation complete; no suspect identified</td>\n",
       "    </tr>\n",
       "    <tr>\n",
       "      <th>2</th>\n",
       "      <td>9ac9fcc7d22103973f626a69ae4c9fefd54151d5addc1e...</td>\n",
       "      <td>2024-01</td>\n",
       "      <td>Devon &amp; Cornwall Police</td>\n",
       "      <td>Devon &amp; Cornwall Police</td>\n",
       "      <td>-2.599344</td>\n",
       "      <td>51.450094</td>\n",
       "      <td>On or near Nightclub</td>\n",
       "      <td>E01033909</td>\n",
       "      <td>Bristol 061C</td>\n",
       "      <td>Theft from the person</td>\n",
       "      <td>Action to be taken by another organisation</td>\n",
       "    </tr>\n",
       "    <tr>\n",
       "      <th>3</th>\n",
       "      <td>e3a99af51ec4babcb0680c0f027b7254d80ba8f168adbd...</td>\n",
       "      <td>2024-01</td>\n",
       "      <td>Devon &amp; Cornwall Police</td>\n",
       "      <td>Devon &amp; Cornwall Police</td>\n",
       "      <td>-1.933391</td>\n",
       "      <td>52.751848</td>\n",
       "      <td>On or near Hilltop</td>\n",
       "      <td>E01029346</td>\n",
       "      <td>Cannock Chase 003B</td>\n",
       "      <td>Violence and sexual offences</td>\n",
       "      <td>Status update unavailable</td>\n",
       "    </tr>\n",
       "    <tr>\n",
       "      <th>4</th>\n",
       "      <td>abe881ef6ba45b35a8e1ba5b4d5de25b9140413743c286...</td>\n",
       "      <td>2024-01</td>\n",
       "      <td>Devon &amp; Cornwall Police</td>\n",
       "      <td>Devon &amp; Cornwall Police</td>\n",
       "      <td>-1.933391</td>\n",
       "      <td>52.751848</td>\n",
       "      <td>On or near Hilltop</td>\n",
       "      <td>E01029346</td>\n",
       "      <td>Cannock Chase 003B</td>\n",
       "      <td>Violence and sexual offences</td>\n",
       "      <td>Status update unavailable</td>\n",
       "    </tr>\n",
       "  </tbody>\n",
       "</table>\n",
       "</div>"
      ],
      "text/plain": [
       "                                            Crime_ID    Month  \\\n",
       "0  48c1007edc34d286b599720b7518058e9f75e6928ca2dc...  2024-01   \n",
       "1  4d913f4f5875e7b7726bb10f1633fdc5d3a47edd16ea5d...  2024-01   \n",
       "2  9ac9fcc7d22103973f626a69ae4c9fefd54151d5addc1e...  2024-01   \n",
       "3  e3a99af51ec4babcb0680c0f027b7254d80ba8f168adbd...  2024-01   \n",
       "4  abe881ef6ba45b35a8e1ba5b4d5de25b9140413743c286...  2024-01   \n",
       "\n",
       "               Reported_by             Falls_Within  Longitude   Latitude  \\\n",
       "0  Devon & Cornwall Police  Devon & Cornwall Police  -1.961000  50.745104   \n",
       "1  Devon & Cornwall Police  Devon & Cornwall Police  -0.758195  51.397477   \n",
       "2  Devon & Cornwall Police  Devon & Cornwall Police  -2.599344  51.450094   \n",
       "3  Devon & Cornwall Police  Devon & Cornwall Police  -1.933391  52.751848   \n",
       "4  Devon & Cornwall Police  Devon & Cornwall Police  -1.933391  52.751848   \n",
       "\n",
       "                   Location  LSOA_code  \\\n",
       "0    On or near Calder Road  E01015411   \n",
       "1  On or near Fitzroy Close  E01016231   \n",
       "2      On or near Nightclub  E01033909   \n",
       "3        On or near Hilltop  E01029346   \n",
       "4        On or near Hilltop  E01029346   \n",
       "\n",
       "                                  LSOA_name                    Crime_type  \\\n",
       "0  Bournemouth, Christchurch and Poole 016E                   Other theft   \n",
       "1                     Bracknell Forest 010D                 Vehicle crime   \n",
       "2                              Bristol 061C         Theft from the person   \n",
       "3                        Cannock Chase 003B  Violence and sexual offences   \n",
       "4                        Cannock Chase 003B  Violence and sexual offences   \n",
       "\n",
       "                           Last_outcome_category  \n",
       "0                    Unable to prosecute suspect  \n",
       "1  Investigation complete; no suspect identified  \n",
       "2     Action to be taken by another organisation  \n",
       "3                      Status update unavailable  \n",
       "4                      Status update unavailable  "
      ]
     },
     "execution_count": 40,
     "metadata": {},
     "output_type": "execute_result"
    }
   ],
   "source": [
    "cornwallCrimeRate2024.head()"
   ]
  },
  {
   "cell_type": "code",
   "execution_count": 47,
   "metadata": {},
   "outputs": [
    {
     "name": "stderr",
     "output_type": "stream",
     "text": [
      "/var/folders/jx/pym939rn0_zgvv112pfcjs8r0000gn/T/ipykernel_15425/155485385.py:1: DtypeWarning: Columns (13) have mixed types. Specify dtype option on import or set low_memory=False.\n",
      "  postcode_to_lsoa = pd.read_csv(\"/Users/anukul/Desktop/Anukul/Learning/DataScience/Obtaining/Postcode_to_LSOA.csv\",encoding='ISO-8859-1')\n"
     ]
    }
   ],
   "source": [
    "postcode_to_lsoa = pd.read_csv(\"/Users/anukul/Desktop/Anukul/Learning/DataScience/Obtaining/Postcode_to_LSOA.csv\",encoding='ISO-8859-1')"
   ]
  },
  {
   "cell_type": "code",
   "execution_count": 45,
   "metadata": {},
   "outputs": [],
   "source": [
    "bristol_crime_data = pd.concat([bsCrimeRate2021, bsCrimeRate2022, bsCrimeRate2023, bsCrimeRate2024], ignore_index=True)\n",
    "cornwall_crime_data = pd.concat([cornwallCrimeRate2021, cornwallCrimeRate2022, cornwallCrimeRate2023, cornwallCrimeRate2024], ignore_index=True)"
   ]
  },
  {
   "cell_type": "markdown",
   "metadata": {},
   "source": [
    "Narrow down the dataset to only having necessary columns and renaming the columns"
   ]
  },
  {
   "cell_type": "code",
   "execution_count": 48,
   "metadata": {},
   "outputs": [],
   "source": [
    "postcode_to_lsoa = postcode_to_lsoa.rename(columns={\n",
    "    'pcds': 'postcode',\n",
    "    'lsoa11cd': 'LSOA_code',\n",
    "    'ladnm': 'city'\n",
    "}).loc[:, ['postcode', 'LSOA_code', 'city']]\n",
    "postcode_to_lsoa = postcode_to_lsoa.groupby('LSOA_code').agg({\n",
    "    'postcode': 'first',\n",
    "    'city': 'first'\n",
    "}).reset_index()"
   ]
  },
  {
   "cell_type": "markdown",
   "metadata": {},
   "source": [
    "Innerjoining lsoa dataset with bristol crimes dataframe"
   ]
  },
  {
   "cell_type": "code",
   "execution_count": 49,
   "metadata": {},
   "outputs": [],
   "source": [
    "bristol_crime_data = bristol_crime_data.rename(columns={'Month': 'Year'}).loc[:, ['Crime_ID', 'Year', 'LSOA_code', 'LSOA_name', 'Crime_type']]\n",
    "bristol_crime_data = bristol_crime_data.merge(postcode_to_lsoa, on='LSOA_code', how='inner')"
   ]
  },
  {
   "cell_type": "code",
   "execution_count": 50,
   "metadata": {},
   "outputs": [],
   "source": [
    "bristol_crime_summary = bristol_crime_data.groupby(['city', 'Year', 'Crime_type']).agg({\n",
    "    'Crime_ID': 'count'\n",
    "}).reset_index().rename(columns={'Crime_ID': 'CrimeTypeCount'}).sort_values(by='Year')"
   ]
  },
  {
   "cell_type": "code",
   "execution_count": 51,
   "metadata": {},
   "outputs": [
    {
     "name": "stdout",
     "output_type": "stream",
     "text": [
      "                city     Year                    Crime_type  CrimeTypeCount\n",
      "2392     Northampton  2021-07  Violence and sexual offences               1\n",
      "2461       Sedgemoor  2021-07     Criminal damage and arson              95\n",
      "2462       Sedgemoor  2021-07                         Drugs              19\n",
      "2463       Sedgemoor  2021-07                   Other crime              19\n",
      "2464       Sedgemoor  2021-07                   Other theft              63\n",
      "...              ...      ...                           ...             ...\n",
      "4399          Stroud  2024-06     Criminal damage and arson               1\n",
      "4400          Stroud  2024-06  Violence and sexual offences               6\n",
      "1356           Leeds  2024-06  Violence and sexual offences               1\n",
      "4331  South Somerset  2024-06                   Shoplifting              74\n",
      "4660            York  2024-06  Violence and sexual offences               1\n",
      "\n",
      "[4661 rows x 4 columns]\n"
     ]
    }
   ],
   "source": [
    "print(bristol_crime_summary)"
   ]
  },
  {
   "cell_type": "code",
   "execution_count": 52,
   "metadata": {},
   "outputs": [],
   "source": [
    "cornwall_crime_data = cornwall_crime_data.rename(columns={'Month': 'Year'}).loc[:, ['Crime_ID', 'Year', 'LSOA_code', 'LSOA_name', 'Crime_type']]\n",
    "cornwall_crime_data = cornwall_crime_data.merge(postcode_to_lsoa, on='LSOA_code', how='inner')"
   ]
  },
  {
   "cell_type": "code",
   "execution_count": 55,
   "metadata": {},
   "outputs": [],
   "source": [
    "cornwall_crime_summary = cornwall_crime_data.groupby(['city', 'Year', 'Crime_type']).agg({\n",
    "    'Crime_ID': 'count'\n",
    "}).reset_index().rename(columns={'Crime_ID': 'CrimeTypeCount'}).sort_values(by='Year')"
   ]
  },
  {
   "cell_type": "code",
   "execution_count": 56,
   "metadata": {},
   "outputs": [
    {
     "name": "stdout",
     "output_type": "stream",
     "text": [
      "                           city     Year                    Crime_type  \\\n",
      "0                     Allerdale  2021-07                  Public order   \n",
      "1847                  Mid Devon  2021-07                   Other crime   \n",
      "1846                  Mid Devon  2021-07                         Drugs   \n",
      "1845                  Mid Devon  2021-07     Criminal damage and arson   \n",
      "1844                  Mid Devon  2021-07                      Burglary   \n",
      "...                         ...      ...                           ...   \n",
      "3218                   Plymouth  2024-06     Criminal damage and arson   \n",
      "4205                Teignbridge  2024-06                 Vehicle crime   \n",
      "4206                Teignbridge  2024-06  Violence and sexual offences   \n",
      "3325  Somerset West and Taunton  2024-06                  Public order   \n",
      "4204                Teignbridge  2024-06         Theft from the person   \n",
      "\n",
      "      CrimeTypeCount  \n",
      "0                  1  \n",
      "1847               8  \n",
      "1846               8  \n",
      "1845              43  \n",
      "1844               7  \n",
      "...              ...  \n",
      "3218             218  \n",
      "4205              15  \n",
      "4206             273  \n",
      "3325               1  \n",
      "4204               2  \n",
      "\n",
      "[5528 rows x 4 columns]\n"
     ]
    }
   ],
   "source": [
    "print(cornwall_crime_summary)"
   ]
  },
  {
   "cell_type": "code",
   "execution_count": 57,
   "metadata": {},
   "outputs": [],
   "source": [
    "bristol_crime_data.to_csv(r\"/Users/anukul/Desktop/Anukul/Learning/DataScience/Cleaning/cleaned-data/bristol-crime-cleaned.csv\", index=False)\n",
    "cornwall_crime_data.to_csv(r\"/Users/anukul/Desktop/Anukul/Learning/DataScience/Cleaning/cleaned-data/cornwall-crime-cleaned.csv\", index=False)\n",
    "bristol_crime_summary.to_csv(r\"/Users/anukul/Desktop/Anukul/Learning/DataScience/Cleaning/cleaned-data/bristol-crimeSummary.csv\", index=False)\n",
    "cornwall_crime_summary.to_csv(r\"/Users/anukul/Desktop/Anukul/Learning/DataScience/Cleaning/cleaned-data/cornwall-crimeSummary.csv\", index=False)"
   ]
  }
 ],
 "metadata": {
  "kernelspec": {
   "display_name": "Python 3",
   "language": "python",
   "name": "python3"
  },
  "language_info": {
   "codemirror_mode": {
    "name": "ipython",
    "version": 3
   },
   "file_extension": ".py",
   "mimetype": "text/x-python",
   "name": "python",
   "nbconvert_exporter": "python",
   "pygments_lexer": "ipython3",
   "version": "3.12.3"
  }
 },
 "nbformat": 4,
 "nbformat_minor": 2
}
